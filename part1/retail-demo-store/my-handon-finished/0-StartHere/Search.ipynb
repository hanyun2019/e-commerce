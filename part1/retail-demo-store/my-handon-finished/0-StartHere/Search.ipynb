{
 "cells": [
  {
   "cell_type": "markdown",
   "metadata": {},
   "source": [
    "# Retail Demo Store - Search Workshop\n",
    "\n",
    "Welcome to the Retail Demo Store Search Workshop. In this module we'll be configuring the Retail Demo Store Search service to allow searching for product data via Elasticsearch. An Elasticsearch domain should already be provisioned for you in your AWS environment.\n",
    "\n",
    "Recommended Time: 20 Minutes"
   ]
  },
  {
   "cell_type": "markdown",
   "metadata": {},
   "source": [
    "## Setup\n",
    "\n",
    "To get started, we need to perform a bit of setup. Walk through each of the following steps to configure your environment to interact with the Amazon Personalize Service."
   ]
  },
  {
   "cell_type": "markdown",
   "metadata": {},
   "source": [
    "### Import Dependencies and Setup Boto3 Python Clients\n",
    "\n",
    "Througout this workshop we will need access to some common libraries and clients for connecting to AWS services."
   ]
  },
  {
   "cell_type": "code",
   "execution_count": 2,
   "metadata": {},
   "outputs": [],
   "source": [
    "# Import Dependencies\n",
    "\n",
    "import boto3\n",
    "import json\n",
    "import pandas as pd\n",
    "import time\n",
    "import requests\n",
    "import csv\n",
    "\n",
    "from random import randint\n",
    "from botocore.exceptions import ClientError\n",
    "\n",
    "# Setup Clients\n",
    "\n",
    "servicediscovery = boto3.client('servicediscovery')\n",
    "ssm = boto3.client('ssm')\n",
    "es_service = boto3.client('es')"
   ]
  },
  {
   "cell_type": "markdown",
   "metadata": {},
   "source": [
    "## Create Index and Bulk Index Product Data"
   ]
  },
  {
   "cell_type": "markdown",
   "metadata": {},
   "source": [
    "### Get Products Service Instance\n",
    "\n",
    "We will be creating a new Elasticsearch Index and indexing our product data so that our users can search for products. To do this, first we will be pulling our Product data from [Products Service](https://github.com/aws-samples/retail-demo-store/tree/master/src/products) that is deployed as part of the Retail Demo Store. To connect to the Products Service we will use Service Discovery to discover an instance of the Products Service, and then connect directly to that service instances to access our data."
   ]
  },
  {
   "cell_type": "code",
   "execution_count": 3,
   "metadata": {},
   "outputs": [
    {
     "name": "stdout",
     "output_type": "stream",
     "text": [
      "Service Instance IP: 10.215.20.174\n"
     ]
    }
   ],
   "source": [
    "response = servicediscovery.discover_instances(\n",
    "    NamespaceName='retaildemostore.local',\n",
    "    ServiceName='products',\n",
    "    MaxResults=1,\n",
    "    HealthStatus='HEALTHY'\n",
    ")\n",
    "\n",
    "products_service_instance = response['Instances'][0]['Attributes']['AWS_INSTANCE_IPV4']\n",
    "print('Service Instance IP: {}'.format(products_service_instance))"
   ]
  },
  {
   "cell_type": "markdown",
   "metadata": {},
   "source": [
    "#### Download and Explore the Products Dataset\n",
    "\n",
    "Now that we have the IP address of one of our Products Service instances, we can connect to it and download our product catalog. To more easily explore our data, we will convert the json response form the Products Service into a dataframe and print it as a table. "
   ]
  },
  {
   "cell_type": "code",
   "execution_count": 4,
   "metadata": {},
   "outputs": [
    {
     "data": {
      "text/html": [
       "<div>\n",
       "<style scoped>\n",
       "    .dataframe tbody tr th:only-of-type {\n",
       "        vertical-align: middle;\n",
       "    }\n",
       "\n",
       "    .dataframe tbody tr th {\n",
       "        vertical-align: top;\n",
       "    }\n",
       "\n",
       "    .dataframe thead th {\n",
       "        text-align: right;\n",
       "    }\n",
       "</style>\n",
       "<table border=\"1\" class=\"dataframe\">\n",
       "  <thead>\n",
       "    <tr style=\"text-align: right;\">\n",
       "      <th></th>\n",
       "      <th>id</th>\n",
       "      <th>url</th>\n",
       "      <th>sk</th>\n",
       "      <th>name</th>\n",
       "      <th>category</th>\n",
       "      <th>style</th>\n",
       "      <th>description</th>\n",
       "      <th>price</th>\n",
       "      <th>image</th>\n",
       "      <th>featured</th>\n",
       "      <th>gender_affinity</th>\n",
       "    </tr>\n",
       "  </thead>\n",
       "  <tbody>\n",
       "    <tr>\n",
       "      <th>0</th>\n",
       "      <td>36</td>\n",
       "      <td>http://d2syr0qoho6cqh.cloudfront.net/#/product/36</td>\n",
       "      <td></td>\n",
       "      <td>Exercise Headphones</td>\n",
       "      <td>electronics</td>\n",
       "      <td>headphones</td>\n",
       "      <td>These stylishly red ear buds wrap securely aro...</td>\n",
       "      <td>19.99</td>\n",
       "      <td>5.jpg</td>\n",
       "      <td>true</td>\n",
       "      <td>NaN</td>\n",
       "    </tr>\n",
       "    <tr>\n",
       "      <th>1</th>\n",
       "      <td>49</td>\n",
       "      <td>http://d2syr0qoho6cqh.cloudfront.net/#/product/49</td>\n",
       "      <td></td>\n",
       "      <td>Light Brown Leather Lace-Up Boot</td>\n",
       "      <td>footwear</td>\n",
       "      <td>boot</td>\n",
       "      <td>Sturdy enough for the outdoors yet stylish to ...</td>\n",
       "      <td>89.95</td>\n",
       "      <td>11.jpg</td>\n",
       "      <td>NaN</td>\n",
       "      <td>NaN</td>\n",
       "    </tr>\n",
       "    <tr>\n",
       "      <th>...</th>\n",
       "      <td>...</td>\n",
       "      <td>...</td>\n",
       "      <td>...</td>\n",
       "      <td>...</td>\n",
       "      <td>...</td>\n",
       "      <td>...</td>\n",
       "      <td>...</td>\n",
       "      <td>...</td>\n",
       "      <td>...</td>\n",
       "      <td>...</td>\n",
       "      <td>...</td>\n",
       "    </tr>\n",
       "    <tr>\n",
       "      <th>54</th>\n",
       "      <td>43</td>\n",
       "      <td>http://d2syr0qoho6cqh.cloudfront.net/#/product/43</td>\n",
       "      <td></td>\n",
       "      <td>Beauty Mask</td>\n",
       "      <td>beauty</td>\n",
       "      <td>grooming</td>\n",
       "      <td>Remove dirt and revitalize skin with this blac...</td>\n",
       "      <td>9.99</td>\n",
       "      <td>9.jpg</td>\n",
       "      <td>NaN</td>\n",
       "      <td>NaN</td>\n",
       "    </tr>\n",
       "    <tr>\n",
       "      <th>55</th>\n",
       "      <td>14</td>\n",
       "      <td>http://d2syr0qoho6cqh.cloudfront.net/#/product/14</td>\n",
       "      <td></td>\n",
       "      <td>Coffee Gift Package</td>\n",
       "      <td>housewares</td>\n",
       "      <td>consumable</td>\n",
       "      <td>Mug and Coffee gift set combination package.</td>\n",
       "      <td>39.99</td>\n",
       "      <td>2.jpg</td>\n",
       "      <td>NaN</td>\n",
       "      <td>NaN</td>\n",
       "    </tr>\n",
       "  </tbody>\n",
       "</table>\n",
       "<p>56 rows × 11 columns</p>\n",
       "</div>"
      ],
      "text/plain": [
       "    id                                                url sk  \\\n",
       "0   36  http://d2syr0qoho6cqh.cloudfront.net/#/product/36      \n",
       "1   49  http://d2syr0qoho6cqh.cloudfront.net/#/product/49      \n",
       "..  ..                                                ... ..   \n",
       "54  43  http://d2syr0qoho6cqh.cloudfront.net/#/product/43      \n",
       "55  14  http://d2syr0qoho6cqh.cloudfront.net/#/product/14      \n",
       "\n",
       "                                name     category       style  \\\n",
       "0                Exercise Headphones  electronics  headphones   \n",
       "1   Light Brown Leather Lace-Up Boot     footwear        boot   \n",
       "..                               ...          ...         ...   \n",
       "54                       Beauty Mask       beauty    grooming   \n",
       "55               Coffee Gift Package   housewares  consumable   \n",
       "\n",
       "                                          description  price   image featured  \\\n",
       "0   These stylishly red ear buds wrap securely aro...  19.99   5.jpg     true   \n",
       "1   Sturdy enough for the outdoors yet stylish to ...  89.95  11.jpg      NaN   \n",
       "..                                                ...    ...     ...      ...   \n",
       "54  Remove dirt and revitalize skin with this blac...   9.99   9.jpg      NaN   \n",
       "55       Mug and Coffee gift set combination package.  39.99   2.jpg      NaN   \n",
       "\n",
       "   gender_affinity  \n",
       "0              NaN  \n",
       "1              NaN  \n",
       "..             ...  \n",
       "54             NaN  \n",
       "55             NaN  \n",
       "\n",
       "[56 rows x 11 columns]"
      ]
     },
     "execution_count": 4,
     "metadata": {},
     "output_type": "execute_result"
    }
   ],
   "source": [
    "response = requests.get('http://{}/products/all'.format(products_service_instance))\n",
    "products = response.json()\n",
    "products_df = pd.DataFrame(products)\n",
    "pd.set_option('display.max_rows', 5)\n",
    "\n",
    "products_df"
   ]
  },
  {
   "cell_type": "markdown",
   "metadata": {},
   "source": [
    "### Install Elasticsearch Python Library\n",
    "\n",
    "We will use the Python Elasticsearch library to connect to our Amazon Elasticsearch cluster, create a new index, and then bulk index our product data. First, we need to install the Elasticsearch library into our environment."
   ]
  },
  {
   "cell_type": "code",
   "execution_count": 5,
   "metadata": {},
   "outputs": [
    {
     "name": "stdout",
     "output_type": "stream",
     "text": [
      "Collecting pip\n",
      "  Downloading pip-20.2.3-py2.py3-none-any.whl (1.5 MB)\n",
      "\u001b[K     |████████████████████████████████| 1.5 MB 10.3 MB/s eta 0:00:01\n",
      "\u001b[?25hInstalling collected packages: pip\n",
      "  Attempting uninstall: pip\n",
      "    Found existing installation: pip 20.0.2\n",
      "    Uninstalling pip-20.0.2:\n",
      "      Successfully uninstalled pip-20.0.2\n",
      "Successfully installed pip-20.2.3\n",
      "Collecting elasticsearch\n",
      "  Downloading elasticsearch-7.9.1-py2.py3-none-any.whl (219 kB)\n",
      "\u001b[K     |████████████████████████████████| 219 kB 13.2 MB/s eta 0:00:01\n",
      "\u001b[?25hRequirement already satisfied: certifi in /home/ec2-user/anaconda3/envs/python3/lib/python3.6/site-packages (from elasticsearch) (2020.6.20)\n",
      "Requirement already satisfied: urllib3>=1.21.1 in /home/ec2-user/anaconda3/envs/python3/lib/python3.6/site-packages (from elasticsearch) (1.25.8)\n",
      "Installing collected packages: elasticsearch\n",
      "Successfully installed elasticsearch-7.9.1\n"
     ]
    }
   ],
   "source": [
    "!pip install --upgrade pip\n",
    "!pip install elasticsearch"
   ]
  },
  {
   "cell_type": "markdown",
   "metadata": {},
   "source": [
    "### Find Elasticsearch Domain Endpoint\n",
    "\n",
    "Before we can configure the Elasticsearch client, we need to determine the endpoint for the Elasticsearch domain created in your AWS environment. We will accomplish this by looking for the Elasticsearch domain with tag key of `Name` and tag value of `retaildemostore`. This tag was associated with the Amazon Elasticsearch domain that was created when the project was deployed to your AWS account."
   ]
  },
  {
   "cell_type": "code",
   "execution_count": 6,
   "metadata": {},
   "outputs": [
    {
     "name": "stdout",
     "output_type": "stream",
     "text": [
      "Elasticsearch domain endpoint: vpc-retaild-elasti-1mq8e8wqjrypn-z4eppuaa4ajgh7qxti7utsa2uu.eu-west-1.es.amazonaws.com\n"
     ]
    }
   ],
   "source": [
    "elasticsearch_domain_endpoint = None\n",
    "\n",
    "domains_response = es_service.list_domain_names()\n",
    "\n",
    "for domain_name in domains_response['DomainNames']:\n",
    "    describe_response = es_service.describe_elasticsearch_domain(\n",
    "        DomainName=domain_name['DomainName']\n",
    "    )\n",
    "    \n",
    "    tags_response = es_service.list_tags(ARN=describe_response['DomainStatus']['ARN'])\n",
    "\n",
    "    domain_match = False\n",
    "    for tag in tags_response['TagList']:\n",
    "        if tag['Key'] == 'Name' and tag['Value'] == 'retaildemostore':\n",
    "            domain_match = True\n",
    "            break\n",
    "            \n",
    "    if domain_match:\n",
    "        elasticsearch_domain_endpoint = describe_response['DomainStatus']['Endpoints']['vpc']\n",
    "        break;\n",
    "\n",
    "print('Elasticsearch domain endpoint: ' + str(elasticsearch_domain_endpoint))\n",
    "\n",
    "if not elasticsearch_domain_endpoint:\n",
    "    raise Exception('Elasticsearch domain endpoint could not be determined. Ensure Elasticsearch domain has been successfully created and has \"retaildemostore\" tag before continuing.')"
   ]
  },
  {
   "cell_type": "markdown",
   "metadata": {},
   "source": [
    "### Configure and Create Elasticsearch Client"
   ]
  },
  {
   "cell_type": "code",
   "execution_count": 7,
   "metadata": {},
   "outputs": [],
   "source": [
    "from elasticsearch import Elasticsearch\n",
    "\n",
    "ES_HOST = {\n",
    "    'host' : elasticsearch_domain_endpoint,\n",
    "    'port' : 443,\n",
    "    'scheme' : 'https',\n",
    "}\n",
    "INDEX_NAME = 'products'\n",
    "TYPE_NAME = 'product'\n",
    "ID_FIELD = 'id'\n",
    "\n",
    "es = Elasticsearch(hosts = [ES_HOST])"
   ]
  },
  {
   "cell_type": "markdown",
   "metadata": {},
   "source": [
    "### Prepare Product Data for Indexing"
   ]
  },
  {
   "cell_type": "code",
   "execution_count": 8,
   "metadata": {},
   "outputs": [],
   "source": [
    "bulk_data = [] \n",
    "for product in products:\n",
    "    data_dict = product\n",
    "\n",
    "    op_dict = {\n",
    "        \"index\": {\n",
    "            \"_index\": INDEX_NAME, \n",
    "            \"_type\": TYPE_NAME, \n",
    "            \"_id\": data_dict[ID_FIELD]\n",
    "        }\n",
    "    }\n",
    "    bulk_data.append(op_dict)\n",
    "    bulk_data.append(data_dict)"
   ]
  },
  {
   "cell_type": "markdown",
   "metadata": {},
   "source": [
    "### Check for and Delete Existing Indexes\n",
    "\n",
    "If the products index already exists, we'll delete it so everything gets rebuilt from scratch."
   ]
  },
  {
   "cell_type": "code",
   "execution_count": 9,
   "metadata": {},
   "outputs": [
    {
     "name": "stdout",
     "output_type": "stream",
     "text": [
      "Index does not exist. Nothing to do.\n"
     ]
    }
   ],
   "source": [
    "if es.indices.exists(INDEX_NAME):\n",
    "    print(\"Deleting '%s' index...\" % (INDEX_NAME))\n",
    "    res = es.indices.delete(index = INDEX_NAME)\n",
    "    print(\" response: '%s'\" % (res))\n",
    "else:\n",
    "    print('Index does not exist. Nothing to do.')"
   ]
  },
  {
   "cell_type": "markdown",
   "metadata": {},
   "source": [
    "### Create Index"
   ]
  },
  {
   "cell_type": "code",
   "execution_count": 10,
   "metadata": {},
   "outputs": [
    {
     "name": "stdout",
     "output_type": "stream",
     "text": [
      "Creating 'products' index...\n",
      " response: '{'acknowledged': True, 'shards_acknowledged': True, 'index': 'products'}'\n"
     ]
    }
   ],
   "source": [
    "request_body = {\n",
    "    \"settings\" : {\n",
    "        \"number_of_shards\": 1,\n",
    "        \"number_of_replicas\": 0\n",
    "    }\n",
    "}\n",
    "print(\"Creating '%s' index...\" % (INDEX_NAME))\n",
    "res = es.indices.create(index = INDEX_NAME, body = request_body)\n",
    "print(\" response: '%s'\" % (res))"
   ]
  },
  {
   "cell_type": "markdown",
   "metadata": {},
   "source": [
    "### Perform Bulk Indexing"
   ]
  },
  {
   "cell_type": "code",
   "execution_count": 11,
   "metadata": {},
   "outputs": [
    {
     "name": "stdout",
     "output_type": "stream",
     "text": [
      "Bulk indexing...\n",
      "Done\n"
     ]
    }
   ],
   "source": [
    "print(\"Bulk indexing...\")\n",
    "res = es.bulk(index = INDEX_NAME, body = bulk_data, refresh = True)\n",
    "print(\"Done\")"
   ]
  },
  {
   "cell_type": "markdown",
   "metadata": {},
   "source": [
    "### Validate Results Through Elasticsearch\n",
    "\n",
    "To verify that the products have been successfully indexed, let's perform a wildcard search for `beard*` directly against the Elasticsearch index."
   ]
  },
  {
   "cell_type": "code",
   "execution_count": 12,
   "metadata": {},
   "outputs": [
    {
     "name": "stdout",
     "output_type": "stream",
     "text": [
      "{\n",
      "  \"took\": 192,\n",
      "  \"timed_out\": false,\n",
      "  \"_shards\": {\n",
      "    \"total\": 1,\n",
      "    \"successful\": 1,\n",
      "    \"skipped\": 0,\n",
      "    \"failed\": 0\n",
      "  },\n",
      "  \"hits\": {\n",
      "    \"total\": {\n",
      "      \"value\": 1,\n",
      "      \"relation\": \"eq\"\n",
      "    },\n",
      "    \"max_score\": 1.0,\n",
      "    \"hits\": [\n",
      "      {\n",
      "        \"_index\": \"products\",\n",
      "        \"_type\": \"product\",\n",
      "        \"_id\": \"3\",\n",
      "        \"_score\": 1.0,\n",
      "        \"_source\": {\n",
      "          \"id\": \"3\",\n",
      "          \"url\": \"http://d2syr0qoho6cqh.cloudfront.net/#/product/3\",\n",
      "          \"sk\": \"\",\n",
      "          \"name\": \"Beard Oil\",\n",
      "          \"category\": \"beauty\",\n",
      "          \"style\": \"grooming\",\n",
      "          \"description\": \"Lightly scented with a manly robust fragrance perfect for your face grass.\",\n",
      "          \"price\": 9.99,\n",
      "          \"image\": \"1.jpg\",\n",
      "          \"featured\": \"true\",\n",
      "          \"gender_affinity\": \"M\"\n",
      "        }\n",
      "      }\n",
      "    ]\n",
      "  }\n",
      "}\n"
     ]
    }
   ],
   "source": [
    "res = es.search(index = INDEX_NAME, body={\"query\": {\"wildcard\": { \"name\": \"beard*\"}}})\n",
    "print(json.dumps(res, indent=2))"
   ]
  },
  {
   "cell_type": "markdown",
   "metadata": {},
   "source": [
    "## Validate Results Through Search Service\n",
    "\n",
    "Finally, let's verify that the Retail Demo Store's [Search service](https://github.com/aws-samples/retail-demo-store/tree/master/src/search) can successfully query from the Elasticsearch index as well.\n",
    "\n",
    "### Discover Search Service\n",
    "\n",
    "First we need to get the address to the [Search service](https://github.com/aws-samples/retail-demo-store/tree/master/src/search)."
   ]
  },
  {
   "cell_type": "code",
   "execution_count": 13,
   "metadata": {},
   "outputs": [
    {
     "name": "stdout",
     "output_type": "stream",
     "text": [
      "Service Instance IP: 10.215.20.174\n"
     ]
    }
   ],
   "source": [
    "response = servicediscovery.discover_instances(\n",
    "    NamespaceName='retaildemostore.local',\n",
    "    ServiceName='search',\n",
    "    MaxResults=1,\n",
    "    HealthStatus='HEALTHY'\n",
    ")\n",
    "\n",
    "search_service_instance = response['Instances'][0]['Attributes']['AWS_INSTANCE_IPV4']\n",
    "print('Service Instance IP: {}'.format(products_service_instance))"
   ]
  },
  {
   "cell_type": "markdown",
   "metadata": {},
   "source": [
    "### Call Search Service\n",
    "\n",
    "Let's call the service's index page which simply echos the service name."
   ]
  },
  {
   "cell_type": "code",
   "execution_count": 14,
   "metadata": {},
   "outputs": [
    {
     "name": "stdout",
     "output_type": "stream",
     "text": [
      "Search Service"
     ]
    }
   ],
   "source": [
    "!curl {search_service_instance}"
   ]
  },
  {
   "cell_type": "markdown",
   "metadata": {},
   "source": [
    "Finally, let's do the same `beard` search through the Search service. We should get back the same item IDs as the direct Elasticsearch query above."
   ]
  },
  {
   "cell_type": "code",
   "execution_count": 15,
   "metadata": {},
   "outputs": [
    {
     "name": "stdout",
     "output_type": "stream",
     "text": [
      "[{\"itemId\": \"3\"}]"
     ]
    }
   ],
   "source": [
    "!curl {search_service_instance}/search/products?searchTerm='beard'"
   ]
  },
  {
   "cell_type": "markdown",
   "metadata": {},
   "source": [
    "## Workshop Complete\n",
    "\n",
    "**Congratulations!** You have completed the first Retail Demo Store workshop where we indexed the products from the Retail Demo Store's Products microservice in an Elasticsearch domain index. This domain is used by the Retail Demo Store's Search microservice to process search queries from the Web user interface. To see this in action, open the Retail Demo Store's web UI in a new browser tab/window and enter a value in the search field at the top of the page."
   ]
  },
  {
   "cell_type": "markdown",
   "metadata": {},
   "source": [
    "### Next Step\n",
    "\n",
    "Move on to the **[1-Personalization](../1-Personalization/1.1-Personalize.ipynb)** workshop where we will learn how to train machine learning models using Amazon Personalize to produce personalized product recommendations to users and add the ability to provide personalized reranking of products."
   ]
  }
 ],
 "metadata": {
  "kernelspec": {
   "display_name": "conda_python3",
   "language": "python",
   "name": "conda_python3"
  },
  "language_info": {
   "codemirror_mode": {
    "name": "ipython",
    "version": 3
   },
   "file_extension": ".py",
   "mimetype": "text/x-python",
   "name": "python",
   "nbconvert_exporter": "python",
   "pygments_lexer": "ipython3",
   "version": "3.6.10"
  }
 },
 "nbformat": 4,
 "nbformat_minor": 4
}
