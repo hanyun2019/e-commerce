{
 "cells": [
  {
   "cell_type": "markdown",
   "metadata": {},
   "source": [
    "# Retail Demo Store - Personalization Workshop\n",
    "\n",
    "Welcome to the Retail Demo Store Personalization Workshop. In this module we're going to be adding three core personalization features powered by [Amazon Personalize](https://aws.amazon.com/personalize/): related product recommendations on the product detail page, personalized recommendations on the Retail Demo Store homepage, and personalized ranking of items on the featured product page and product search results. This will allow us to give our users targeted recommendations based on their activity.\n",
    "\n",
    "Recommended Time: 2 Hours"
   ]
  },
  {
   "cell_type": "markdown",
   "metadata": {},
   "source": [
    "## Setup\n",
    "\n",
    "To get started, we need to perform a bit of setup. Walk through each of the following steps to configure your environment to interact with the Amazon Personalize Service."
   ]
  },
  {
   "cell_type": "markdown",
   "metadata": {},
   "source": [
    "### Import Dependencies and Setup Boto3 Python Clients\n",
    "\n",
    "Throughout this workshop we will need access to some common libraries and clients for connecting to AWS services. We also have to retrieve Uid from a SageMaker notebook instance tag."
   ]
  },
  {
   "cell_type": "code",
   "execution_count": 1,
   "metadata": {},
   "outputs": [],
   "source": [
    "# Import Dependencies\n",
    "\n",
    "import boto3\n",
    "import json\n",
    "import pandas as pd\n",
    "import numpy as np\n",
    "import seaborn as sns\n",
    "import matplotlib.pyplot as plt\n",
    "import time\n",
    "import requests\n",
    "import csv\n",
    "import sys\n",
    "import botocore\n",
    "import uuid\n",
    "\n",
    "from packaging import version\n",
    "from random import randint\n",
    "from botocore.exceptions import ClientError\n",
    "\n",
    "%matplotlib inline\n",
    "\n",
    "# Setup Clients\n",
    "\n",
    "personalize = boto3.client('personalize')\n",
    "personalize_runtime = boto3.client('personalize-runtime')\n",
    "personalize_events = boto3.client('personalize-events')\n",
    "\n",
    "servicediscovery = boto3.client('servicediscovery')\n",
    "ssm = boto3.client('ssm')\n",
    "\n",
    "with open('/opt/ml/metadata/resource-metadata.json') as f:\n",
    "  data = json.load(f)\n",
    "sagemaker = boto3.client('sagemaker')\n",
    "sagemakerResponce = sagemaker.list_tags(ResourceArn=data[\"ResourceArn\"])\n",
    "for tag in sagemakerResponce[\"Tags\"]:\n",
    "    if tag['Key'] == 'Uid':\n",
    "        Uid = tag['Value']\n",
    "        break"
   ]
  },
  {
   "cell_type": "markdown",
   "metadata": {},
   "source": [
    "### Configure Bucket and Data Output Location"
   ]
  },
  {
   "cell_type": "markdown",
   "metadata": {},
   "source": [
    "We will be configuring some variables that will store the location of our source data. When the Retail Demo Store stack was deployed in this account, an S3 bucket was created for you and the name of this bucket was stored in Systems Manager Parameter Store. Using the Boto3 client we can get the name of this bucket for use within our Notebook."
   ]
  },
  {
   "cell_type": "code",
   "execution_count": 2,
   "metadata": {},
   "outputs": [
    {
     "name": "stdout",
     "output_type": "stream",
     "text": [
      "Bucket: retaildemostore-base-1cicinqj7c4zo-bu-stackbucket-zvh2i50lngm9\n"
     ]
    }
   ],
   "source": [
    "response = ssm.get_parameter(\n",
    "    Name='retaildemostore-stack-bucket'\n",
    ")\n",
    "\n",
    "bucket = response['Parameter']['Value']     # Do Not Change\n",
    "items_filename = \"items.csv\"                # Do Not Change\n",
    "users_filename = \"users.csv\"                # Do Not Change\n",
    "interactions_filename = \"interactions.csv\"  # Do Not Change\n",
    "\n",
    "print('Bucket: {}'.format(bucket))"
   ]
  },
  {
   "cell_type": "markdown",
   "metadata": {},
   "source": [
    "## Get, Prepare, and Upload User, Product, and Interaction Data\n",
    "\n",
    "Amazon Personalize provides predefined recipes, based on common use cases, for training models. A recipe is a machine learning algorithm that you use with settings, or hyperparameters, and the data you provide to train an Amazon Personalize model. The data you provide to train a model are organized into separate datasets by the type of data being provided. A collection of datasets are organized into a dataset group. The three dataset types supported by Personalize are items, users, and interactions. Depending on the recipe type you choose, a different combination of dataset types are required. For all recipe types, an interactions dataset is required. Interactions represent how users interact with items. For example, viewing a product, watching a video, listening to a recording, or reading an article. For this workshop, we will be using a recipe that supports all three dataset types.\n",
    "\n",
    "When we deployed the Retail Demo Store, it was deployed with an initial seed of fictitious User and Product data. We will use this data to train three models, or solutions, in the Amazon Personalize service which will be used to serve product recommendations, related items,  and to rerank product lists for our users. The User and Product data can be accessed from the Retail Demo Store's [Users](https://github.com/aws-samples/retail-demo-store/tree/master/src/users) and [Products](https://github.com/aws-samples/retail-demo-store/tree/master/src/products) microservices, respectively. We will access our data through microservice data APIs, process the data, and upload them as CSVs to S3. Once our datasets are in S3, we can import them into the Amazon Personalize service.\n",
    "\n",
    "Let's get started."
   ]
  },
  {
   "cell_type": "markdown",
   "metadata": {},
   "source": [
    "### Get Products Service Instance\n",
    "\n",
    "We will be pulling our Product data from the [Products Service](https://github.com/aws-samples/retail-demo-store/tree/master/src/products) that was deployed in Amazon Elastic Container Service as part of the Retail Demo Store. To connect to this service we will use [AWS Cloud Map](https://aws.amazon.com/cloud-map/)'s Service Discovery to discover an instance of the Product Service running in ECS, and then connect directly to that service instances to access our data."
   ]
  },
  {
   "cell_type": "code",
   "execution_count": 3,
   "metadata": {},
   "outputs": [
    {
     "name": "stdout",
     "output_type": "stream",
     "text": [
      "Products Service Instance IP: 10.215.20.174\n"
     ]
    }
   ],
   "source": [
    "response = servicediscovery.discover_instances(\n",
    "    NamespaceName='retaildemostore.local',\n",
    "    ServiceName='products',\n",
    "    MaxResults=1,\n",
    "    HealthStatus='HEALTHY'\n",
    ")\n",
    "\n",
    "products_service_instance = response['Instances'][0]['Attributes']['AWS_INSTANCE_IPV4']\n",
    "print('Products Service Instance IP: {}'.format(products_service_instance))"
   ]
  },
  {
   "cell_type": "markdown",
   "metadata": {},
   "source": [
    "#### Download and Explore the Products Dataset"
   ]
  },
  {
   "cell_type": "code",
   "execution_count": 4,
   "metadata": {},
   "outputs": [
    {
     "data": {
      "text/html": [
       "<div>\n",
       "<style scoped>\n",
       "    .dataframe tbody tr th:only-of-type {\n",
       "        vertical-align: middle;\n",
       "    }\n",
       "\n",
       "    .dataframe tbody tr th {\n",
       "        vertical-align: top;\n",
       "    }\n",
       "\n",
       "    .dataframe thead th {\n",
       "        text-align: right;\n",
       "    }\n",
       "</style>\n",
       "<table border=\"1\" class=\"dataframe\">\n",
       "  <thead>\n",
       "    <tr style=\"text-align: right;\">\n",
       "      <th></th>\n",
       "      <th>id</th>\n",
       "      <th>url</th>\n",
       "      <th>sk</th>\n",
       "      <th>name</th>\n",
       "      <th>category</th>\n",
       "      <th>style</th>\n",
       "      <th>description</th>\n",
       "      <th>price</th>\n",
       "      <th>image</th>\n",
       "      <th>featured</th>\n",
       "      <th>gender_affinity</th>\n",
       "    </tr>\n",
       "  </thead>\n",
       "  <tbody>\n",
       "    <tr>\n",
       "      <th>0</th>\n",
       "      <td>36</td>\n",
       "      <td>http://d2syr0qoho6cqh.cloudfront.net/#/product/36</td>\n",
       "      <td></td>\n",
       "      <td>Exercise Headphones</td>\n",
       "      <td>electronics</td>\n",
       "      <td>headphones</td>\n",
       "      <td>These stylishly red ear buds wrap securely aro...</td>\n",
       "      <td>19.99</td>\n",
       "      <td>5.jpg</td>\n",
       "      <td>true</td>\n",
       "      <td>NaN</td>\n",
       "    </tr>\n",
       "    <tr>\n",
       "      <th>1</th>\n",
       "      <td>49</td>\n",
       "      <td>http://d2syr0qoho6cqh.cloudfront.net/#/product/49</td>\n",
       "      <td></td>\n",
       "      <td>Light Brown Leather Lace-Up Boot</td>\n",
       "      <td>footwear</td>\n",
       "      <td>boot</td>\n",
       "      <td>Sturdy enough for the outdoors yet stylish to ...</td>\n",
       "      <td>89.95</td>\n",
       "      <td>11.jpg</td>\n",
       "      <td>NaN</td>\n",
       "      <td>NaN</td>\n",
       "    </tr>\n",
       "    <tr>\n",
       "      <th>...</th>\n",
       "      <td>...</td>\n",
       "      <td>...</td>\n",
       "      <td>...</td>\n",
       "      <td>...</td>\n",
       "      <td>...</td>\n",
       "      <td>...</td>\n",
       "      <td>...</td>\n",
       "      <td>...</td>\n",
       "      <td>...</td>\n",
       "      <td>...</td>\n",
       "      <td>...</td>\n",
       "    </tr>\n",
       "    <tr>\n",
       "      <th>54</th>\n",
       "      <td>43</td>\n",
       "      <td>http://d2syr0qoho6cqh.cloudfront.net/#/product/43</td>\n",
       "      <td></td>\n",
       "      <td>Beauty Mask</td>\n",
       "      <td>beauty</td>\n",
       "      <td>grooming</td>\n",
       "      <td>Remove dirt and revitalize skin with this blac...</td>\n",
       "      <td>9.99</td>\n",
       "      <td>9.jpg</td>\n",
       "      <td>NaN</td>\n",
       "      <td>NaN</td>\n",
       "    </tr>\n",
       "    <tr>\n",
       "      <th>55</th>\n",
       "      <td>14</td>\n",
       "      <td>http://d2syr0qoho6cqh.cloudfront.net/#/product/14</td>\n",
       "      <td></td>\n",
       "      <td>Coffee Gift Package</td>\n",
       "      <td>housewares</td>\n",
       "      <td>consumable</td>\n",
       "      <td>Mug and Coffee gift set combination package.</td>\n",
       "      <td>39.99</td>\n",
       "      <td>2.jpg</td>\n",
       "      <td>NaN</td>\n",
       "      <td>NaN</td>\n",
       "    </tr>\n",
       "  </tbody>\n",
       "</table>\n",
       "<p>56 rows × 11 columns</p>\n",
       "</div>"
      ],
      "text/plain": [
       "    id                                                url sk  \\\n",
       "0   36  http://d2syr0qoho6cqh.cloudfront.net/#/product/36      \n",
       "1   49  http://d2syr0qoho6cqh.cloudfront.net/#/product/49      \n",
       "..  ..                                                ... ..   \n",
       "54  43  http://d2syr0qoho6cqh.cloudfront.net/#/product/43      \n",
       "55  14  http://d2syr0qoho6cqh.cloudfront.net/#/product/14      \n",
       "\n",
       "                                name     category       style  \\\n",
       "0                Exercise Headphones  electronics  headphones   \n",
       "1   Light Brown Leather Lace-Up Boot     footwear        boot   \n",
       "..                               ...          ...         ...   \n",
       "54                       Beauty Mask       beauty    grooming   \n",
       "55               Coffee Gift Package   housewares  consumable   \n",
       "\n",
       "                                          description  price   image featured  \\\n",
       "0   These stylishly red ear buds wrap securely aro...  19.99   5.jpg     true   \n",
       "1   Sturdy enough for the outdoors yet stylish to ...  89.95  11.jpg      NaN   \n",
       "..                                                ...    ...     ...      ...   \n",
       "54  Remove dirt and revitalize skin with this blac...   9.99   9.jpg      NaN   \n",
       "55       Mug and Coffee gift set combination package.  39.99   2.jpg      NaN   \n",
       "\n",
       "   gender_affinity  \n",
       "0              NaN  \n",
       "1              NaN  \n",
       "..             ...  \n",
       "54             NaN  \n",
       "55             NaN  \n",
       "\n",
       "[56 rows x 11 columns]"
      ]
     },
     "execution_count": 4,
     "metadata": {},
     "output_type": "execute_result"
    }
   ],
   "source": [
    "response = requests.get('http://{}/products/all'.format(products_service_instance))\n",
    "products = response.json()\n",
    "products_df = pd.DataFrame(products)\n",
    "pd.set_option('display.max_rows', 5)\n",
    "\n",
    "products_df"
   ]
  },
  {
   "cell_type": "markdown",
   "metadata": {},
   "source": [
    "#### Prepare and Upload Data\n",
    "\n",
    "When training models in Amazon Personalize, we can provide meta data about our items. For this workshop we will add each product's category and style to the item dataset. The product's unique identifier is required. Then we will rename the columns in our dataset to match our schema (defined later) and those expected by Personalize. Finally, we will save our dataset as a CSV and copy it to our S3 bucket."
   ]
  },
  {
   "cell_type": "code",
   "execution_count": 5,
   "metadata": {},
   "outputs": [],
   "source": [
    "products_dataset_df = products_df[['id','category','style']]\n",
    "products_dataset_df = products_dataset_df.rename(columns = {'id':'ITEM_ID','category':'CATEGORY','style':'STYLE'}) \n",
    "\n",
    "products_dataset_df.to_csv(items_filename, index=False)\n",
    "boto3.Session().resource('s3').Bucket(bucket).Object(items_filename).upload_file(items_filename)"
   ]
  },
  {
   "cell_type": "markdown",
   "metadata": {},
   "source": [
    "### Get Users Service Instance\n",
    "\n",
    "We will be pulling our User data from the [Users Service](https://github.com/aws-samples/retail-demo-store/tree/master/src/users) that is deployed as part of the Retail Demo Store. To connect to this service we will use Service Discovery to discover an instance of the User Service, and then connect directly to that service instance to access our data."
   ]
  },
  {
   "cell_type": "code",
   "execution_count": 6,
   "metadata": {},
   "outputs": [
    {
     "name": "stdout",
     "output_type": "stream",
     "text": [
      "Users Service Instance IP: 10.215.10.190\n"
     ]
    }
   ],
   "source": [
    "response = servicediscovery.discover_instances(\n",
    "    NamespaceName='retaildemostore.local',\n",
    "    ServiceName='users',\n",
    "    MaxResults=1,\n",
    "    HealthStatus='HEALTHY'\n",
    ")\n",
    "\n",
    "users_service_instance = response['Instances'][0]['Attributes']['AWS_INSTANCE_IPV4']\n",
    "print('Users Service Instance IP: {}'.format(users_service_instance))"
   ]
  },
  {
   "cell_type": "markdown",
   "metadata": {},
   "source": [
    "#### Download and Explore the Users Dataset"
   ]
  },
  {
   "cell_type": "code",
   "execution_count": 7,
   "metadata": {},
   "outputs": [
    {
     "data": {
      "text/html": [
       "<div>\n",
       "<style scoped>\n",
       "    .dataframe tbody tr th:only-of-type {\n",
       "        vertical-align: middle;\n",
       "    }\n",
       "\n",
       "    .dataframe tbody tr th {\n",
       "        vertical-align: top;\n",
       "    }\n",
       "\n",
       "    .dataframe thead th {\n",
       "        text-align: right;\n",
       "    }\n",
       "</style>\n",
       "<table border=\"1\" class=\"dataframe\">\n",
       "  <thead>\n",
       "    <tr style=\"text-align: right;\">\n",
       "      <th></th>\n",
       "      <th>id</th>\n",
       "      <th>username</th>\n",
       "      <th>email</th>\n",
       "      <th>first_name</th>\n",
       "      <th>last_name</th>\n",
       "      <th>addresses</th>\n",
       "      <th>age</th>\n",
       "      <th>gender</th>\n",
       "      <th>persona</th>\n",
       "    </tr>\n",
       "  </thead>\n",
       "  <tbody>\n",
       "    <tr>\n",
       "      <th>0</th>\n",
       "      <td>1</td>\n",
       "      <td>user1</td>\n",
       "      <td>nathan.smith@example.com</td>\n",
       "      <td>Nathan</td>\n",
       "      <td>Smith</td>\n",
       "      <td>[{'first_name': 'Nathan', 'last_name': 'Smith'...</td>\n",
       "      <td>28</td>\n",
       "      <td>M</td>\n",
       "      <td>electronics_beauty_outdoors</td>\n",
       "    </tr>\n",
       "    <tr>\n",
       "      <th>1</th>\n",
       "      <td>2</td>\n",
       "      <td>user2</td>\n",
       "      <td>kevin.martinez@example.com</td>\n",
       "      <td>Kevin</td>\n",
       "      <td>Martinez</td>\n",
       "      <td>[{'first_name': 'Kevin', 'last_name': 'Martine...</td>\n",
       "      <td>19</td>\n",
       "      <td>M</td>\n",
       "      <td>electronics_beauty_outdoors</td>\n",
       "    </tr>\n",
       "    <tr>\n",
       "      <th>...</th>\n",
       "      <td>...</td>\n",
       "      <td>...</td>\n",
       "      <td>...</td>\n",
       "      <td>...</td>\n",
       "      <td>...</td>\n",
       "      <td>...</td>\n",
       "      <td>...</td>\n",
       "      <td>...</td>\n",
       "      <td>...</td>\n",
       "    </tr>\n",
       "    <tr>\n",
       "      <th>5998</th>\n",
       "      <td>5999</td>\n",
       "      <td>user5999</td>\n",
       "      <td>paige.chase@example.com</td>\n",
       "      <td>Paige</td>\n",
       "      <td>Chase</td>\n",
       "      <td>[{'first_name': 'Paige', 'last_name': 'Chase',...</td>\n",
       "      <td>68</td>\n",
       "      <td>F</td>\n",
       "      <td>footwear_outdoors_apparel</td>\n",
       "    </tr>\n",
       "    <tr>\n",
       "      <th>5999</th>\n",
       "      <td>6000</td>\n",
       "      <td>user6000</td>\n",
       "      <td>amber.roberson@example.com</td>\n",
       "      <td>Amber</td>\n",
       "      <td>Roberson</td>\n",
       "      <td>[{'first_name': 'Amber', 'last_name': 'Roberso...</td>\n",
       "      <td>27</td>\n",
       "      <td>F</td>\n",
       "      <td>housewares_apparel_electronics</td>\n",
       "    </tr>\n",
       "  </tbody>\n",
       "</table>\n",
       "<p>6000 rows × 9 columns</p>\n",
       "</div>"
      ],
      "text/plain": [
       "        id  username                       email first_name last_name  \\\n",
       "0        1     user1    nathan.smith@example.com     Nathan     Smith   \n",
       "1        2     user2  kevin.martinez@example.com      Kevin  Martinez   \n",
       "...    ...       ...                         ...        ...       ...   \n",
       "5998  5999  user5999     paige.chase@example.com      Paige     Chase   \n",
       "5999  6000  user6000  amber.roberson@example.com      Amber  Roberson   \n",
       "\n",
       "                                              addresses  age gender  \\\n",
       "0     [{'first_name': 'Nathan', 'last_name': 'Smith'...   28      M   \n",
       "1     [{'first_name': 'Kevin', 'last_name': 'Martine...   19      M   \n",
       "...                                                 ...  ...    ...   \n",
       "5998  [{'first_name': 'Paige', 'last_name': 'Chase',...   68      F   \n",
       "5999  [{'first_name': 'Amber', 'last_name': 'Roberso...   27      F   \n",
       "\n",
       "                             persona  \n",
       "0        electronics_beauty_outdoors  \n",
       "1        electronics_beauty_outdoors  \n",
       "...                              ...  \n",
       "5998       footwear_outdoors_apparel  \n",
       "5999  housewares_apparel_electronics  \n",
       "\n",
       "[6000 rows x 9 columns]"
      ]
     },
     "execution_count": 7,
     "metadata": {},
     "output_type": "execute_result"
    }
   ],
   "source": [
    "response = requests.get('http://{}/users/all?count=10000'.format(users_service_instance))\n",
    "users = response.json()\n",
    "users_df = pd.DataFrame(users)\n",
    "# Remove any users without a persona or gender (i.e. created in web UI)\n",
    "users_df = users_df[(users_df['persona'].str.strip().astype(bool)) | (users_df['gender'].str.strip().astype(bool))]\n",
    "pd.set_option('display.max_rows', 5)\n",
    "\n",
    "users_df"
   ]
  },
  {
   "cell_type": "markdown",
   "metadata": {},
   "source": [
    "#### Prepare and Upload Data\n",
    "\n",
    "Similar to the items dataset we created above, we can provide metadata on our users when training models in Personalize. For this workshop we will include each user's age and gender. As before, we will name the columns to match our schema, save the data as a CSV, and upload to our S3 bucket."
   ]
  },
  {
   "cell_type": "code",
   "execution_count": 8,
   "metadata": {},
   "outputs": [],
   "source": [
    "users_dataset_df = users_df[['id','age','gender']]\n",
    "users_dataset_df = users_dataset_df.rename(columns = {'id':'USER_ID','age':'AGE','gender':'GENDER'}) \n",
    "\n",
    "users_dataset_df.to_csv(users_filename, index=False)\n",
    "boto3.Session().resource('s3').Bucket(bucket).Object(users_filename).upload_file(users_filename)"
   ]
  },
  {
   "cell_type": "markdown",
   "metadata": {},
   "source": [
    "### Create User-Items Interactions Dataset\n",
    "\n",
    "To mimic user behavior, we will be generating a new dataset that represents user interactions with items. To make the interactions more realistic, we will use the pre-defined shopper persona for each user to generate event types for products matching that persona. We will create events for viewing products, add products to a cart, checking out, and completing orders."
   ]
  },
  {
   "cell_type": "code",
   "execution_count": 9,
   "metadata": {},
   "outputs": [
    {
     "name": "stdout",
     "output_type": "stream",
     "text": [
      "Minimum interactions to generate: 500000\n",
      "Days back: 90\n",
      "Starting timestamp: 1592142033 (2020-06-14 13:40:33)\n",
      "Seconds increment: 15\n",
      "Generating interactions... (this may take a few minutes)\n",
      "Generated 43138 interactions so far (635.44 seconds to go)\n",
      "Generated 86326 interactions so far (575.04 seconds to go)\n",
      "Generated 129459 interactions so far (515.20 seconds to go)\n",
      "Generated 172593 interactions so far (455.28 seconds to go)\n",
      "Generated 215840 interactions so far (394.96 seconds to go)\n",
      "Generated 259033 interactions so far (334.89 seconds to go)\n",
      "Generated 302191 interactions so far (274.93 seconds to go)\n",
      "Generated 345375 interactions so far (214.90 seconds to go)\n",
      "Generated 388660 interactions so far (154.69 seconds to go)\n",
      "Generated 431764 interactions so far (94.82 seconds to go)\n",
      "Generated 474970 interactions so far (34.78 seconds to go)\n",
      "Done\n",
      "Total interactions: 500000\n",
      "Total product viewed: 431037\n",
      "Total product added: 34482\n",
      "Total cart viewed: 21551\n",
      "Total checkout started: 8620\n",
      "Total order completed: 4310\n",
      "CPU times: user 11min 33s, sys: 742 ms, total: 11min 34s\n",
      "Wall time: 11min 34s\n"
     ]
    }
   ],
   "source": [
    "%%time\n",
    "\n",
    "# Minimum number of interactions to generate\n",
    "min_interactions = 500000\n",
    "\n",
    "# Percentages of each event type to generate\n",
    "product_added_percent = .08\n",
    "cart_viewed_percent = .05\n",
    "checkout_started_percent = .02\n",
    "order_completed_percent = .01\n",
    "\n",
    "# Count of interactions generated for each event type\n",
    "product_viewed_count = 0\n",
    "product_added_count = 0\n",
    "cart_viewed_count = 0\n",
    "checkout_started_count = 0\n",
    "order_completed_count = 0\n",
    "\n",
    "# How many days in the past (from now) to start generating interactions\n",
    "days_back = 90\n",
    "\n",
    "start_time = int(time.time())\n",
    "next_timestamp = start_time - (days_back * 24 * 60 * 60)\n",
    "seconds_increment = int((start_time - next_timestamp) / min_interactions)\n",
    "next_update = start_time + 60\n",
    "\n",
    "assert seconds_increment > 0, \"Increase days_back or reduce min_interactions\"\n",
    "\n",
    "print('Minimum interactions to generate: {}'.format(min_interactions))\n",
    "print('Days back: {}'.format(days_back))\n",
    "print('Starting timestamp: {} ({})'.format(next_timestamp, time.strftime('%Y-%m-%d %H:%M:%S', time.localtime(next_timestamp))))\n",
    "print('Seconds increment: {}'.format(seconds_increment))\n",
    "\n",
    "print(\"Generating interactions... (this may take a few minutes)\")\n",
    "interactions = 0\n",
    "\n",
    "subsets_cache = {}\n",
    "\n",
    "with open(interactions_filename, 'w') as outfile:\n",
    "    f = csv.writer(outfile)\n",
    "    f.writerow([\"ITEM_ID\", \"USER_ID\", \"EVENT_TYPE\", \"TIMESTAMP\"])\n",
    "\n",
    "    while interactions < min_interactions:\n",
    "        if (time.time() > next_update):\n",
    "            rate = interactions / (time.time() - start_time)\n",
    "            to_go = (min_interactions - interactions) / rate\n",
    "            print('Generated {} interactions so far ({:0.2f} seconds to go)'.format(interactions, to_go))\n",
    "            next_update += 60\n",
    "\n",
    "        # Pick a random user\n",
    "        user = users_df.sample().iloc[0]\n",
    "\n",
    "        # Determine category affinity from user's persona\n",
    "        persona = user['persona']\n",
    "        preferred_categories = persona.split('_')\n",
    "\n",
    "        # Select category based on weighted preference of category order.\n",
    "        category = np.random.choice(preferred_categories, 1, p=[0.6, 0.25, 0.15])[0]\n",
    "\n",
    "        gender = user['gender']\n",
    "\n",
    "        # Check if subset data frame is already cached for category & gender\n",
    "        prods_subset_df = subsets_cache.get(category + gender)\n",
    "        if prods_subset_df is None:\n",
    "            # Select products from selected category without gender affinity or that match user's gender\n",
    "            prods_subset_df = products_df.loc[(products_df['category'] == category) & ((products_df['gender_affinity'] == gender) | (products_df['gender_affinity'].isnull()))]\n",
    "            # Update cache\n",
    "            subsets_cache[category + gender] = prods_subset_df\n",
    "\n",
    "        # Pick a random product from gender filtered subset\n",
    "        product = prods_subset_df.sample().iloc[0]\n",
    "\n",
    "        this_timestamp = next_timestamp + randint(0, seconds_increment)\n",
    "\n",
    "        f.writerow([product['id'],\n",
    "                    user['id'], \n",
    "                    'ProductViewed',\n",
    "                    this_timestamp])\n",
    "\n",
    "        next_timestamp += seconds_increment\n",
    "        product_viewed_count += 1\n",
    "        interactions += 1\n",
    "\n",
    "        if product_added_count < int(product_viewed_count * product_added_percent):\n",
    "            this_timestamp += randint(0, int(seconds_increment / 2))\n",
    "            f.writerow([product['id'],\n",
    "                        user['id'], \n",
    "                        'ProductAdded',\n",
    "                        this_timestamp])\n",
    "            interactions += 1\n",
    "            product_added_count += 1\n",
    "\n",
    "        if cart_viewed_count < int(product_viewed_count * cart_viewed_percent):\n",
    "            this_timestamp += randint(0, int(seconds_increment / 2))\n",
    "            f.writerow([product['id'],\n",
    "                        user['id'], \n",
    "                        'CartViewed',\n",
    "                        this_timestamp])\n",
    "            interactions += 1\n",
    "            cart_viewed_count += 1\n",
    "\n",
    "        if checkout_started_count < int(product_viewed_count * checkout_started_percent):\n",
    "            this_timestamp += randint(0, int(seconds_increment / 2))\n",
    "            f.writerow([product['id'],\n",
    "                        user['id'], \n",
    "                        'CheckoutStarted',\n",
    "                        this_timestamp])\n",
    "            interactions += 1\n",
    "            checkout_started_count += 1\n",
    "\n",
    "        if order_completed_count < int(product_viewed_count * order_completed_percent):\n",
    "            this_timestamp += randint(0, int(seconds_increment / 2))\n",
    "            f.writerow([product['id'],\n",
    "                        user['id'], \n",
    "                        'OrderCompleted',\n",
    "                        this_timestamp])\n",
    "            interactions += 1\n",
    "            order_completed_count += 1\n",
    "    \n",
    "print(\"Done\")\n",
    "print(\"Total interactions: \" + str(interactions))\n",
    "print(\"Total product viewed: \" + str(product_viewed_count))\n",
    "print(\"Total product added: \" + str(product_added_count))\n",
    "print(\"Total cart viewed: \" + str(cart_viewed_count))\n",
    "print(\"Total checkout started: \" + str(checkout_started_count))\n",
    "print(\"Total order completed: \" + str(order_completed_count))"
   ]
  },
  {
   "cell_type": "markdown",
   "metadata": {},
   "source": [
    "#### Open and Explore the Interactions Dataset"
   ]
  },
  {
   "cell_type": "code",
   "execution_count": 12,
   "metadata": {},
   "outputs": [
    {
     "data": {
      "text/html": [
       "<div>\n",
       "<style scoped>\n",
       "    .dataframe tbody tr th:only-of-type {\n",
       "        vertical-align: middle;\n",
       "    }\n",
       "\n",
       "    .dataframe tbody tr th {\n",
       "        vertical-align: top;\n",
       "    }\n",
       "\n",
       "    .dataframe thead th {\n",
       "        text-align: right;\n",
       "    }\n",
       "</style>\n",
       "<table border=\"1\" class=\"dataframe\">\n",
       "  <thead>\n",
       "    <tr style=\"text-align: right;\">\n",
       "      <th></th>\n",
       "      <th>ITEM_ID</th>\n",
       "      <th>USER_ID</th>\n",
       "      <th>EVENT_TYPE</th>\n",
       "      <th>TIMESTAMP</th>\n",
       "    </tr>\n",
       "  </thead>\n",
       "  <tbody>\n",
       "    <tr>\n",
       "      <th>0</th>\n",
       "      <td>37</td>\n",
       "      <td>3602</td>\n",
       "      <td>ProductViewed</td>\n",
       "      <td>1592142037</td>\n",
       "    </tr>\n",
       "    <tr>\n",
       "      <th>1</th>\n",
       "      <td>49</td>\n",
       "      <td>5868</td>\n",
       "      <td>ProductViewed</td>\n",
       "      <td>1592142052</td>\n",
       "    </tr>\n",
       "    <tr>\n",
       "      <th>...</th>\n",
       "      <td>...</td>\n",
       "      <td>...</td>\n",
       "      <td>...</td>\n",
       "      <td>...</td>\n",
       "    </tr>\n",
       "    <tr>\n",
       "      <th>499998</th>\n",
       "      <td>54</td>\n",
       "      <td>1233</td>\n",
       "      <td>ProductViewed</td>\n",
       "      <td>1598607559</td>\n",
       "    </tr>\n",
       "    <tr>\n",
       "      <th>499999</th>\n",
       "      <td>49</td>\n",
       "      <td>689</td>\n",
       "      <td>ProductViewed</td>\n",
       "      <td>1598607588</td>\n",
       "    </tr>\n",
       "  </tbody>\n",
       "</table>\n",
       "<p>500000 rows × 4 columns</p>\n",
       "</div>"
      ],
      "text/plain": [
       "        ITEM_ID  USER_ID     EVENT_TYPE   TIMESTAMP\n",
       "0            37     3602  ProductViewed  1592142037\n",
       "1            49     5868  ProductViewed  1592142052\n",
       "...         ...      ...            ...         ...\n",
       "499998       54     1233  ProductViewed  1598607559\n",
       "499999       49      689  ProductViewed  1598607588\n",
       "\n",
       "[500000 rows x 4 columns]"
      ]
     },
     "execution_count": 12,
     "metadata": {},
     "output_type": "execute_result"
    }
   ],
   "source": [
    "interactions_df = pd.read_csv(interactions_filename)\n",
    "interactions_df"
   ]
  },
  {
   "cell_type": "markdown",
   "metadata": {},
   "source": [
    "Chart the counts of each `EVENT_TYPE` generated for the interactions dataset. We're simulating a site where visitors heavily view/browse products and to a lesser degree add products to their cart and checkout."
   ]
  },
  {
   "cell_type": "code",
   "execution_count": 13,
   "metadata": {},
   "outputs": [
    {
     "data": {
      "text/plain": [
       "<matplotlib.axes._subplots.AxesSubplot at 0x7fb12a91a6a0>"
      ]
     },
     "execution_count": 13,
     "metadata": {},
     "output_type": "execute_result"
    },
    {
     "data": {
      "image/png": "[encoded data removed]",
      "text/plain": [
       "<Figure size 1152x216 with 1 Axes>"
      ]
     },
     "metadata": {
      "needs_background": "light"
     },
     "output_type": "display_data"
    }
   ],
   "source": [
    "categorical_attributes = interactions_df.select_dtypes(include = ['object'])\n",
    "\n",
    "plt.figure(figsize=(16,3))\n",
    "sns.countplot(data = categorical_attributes, x = 'EVENT_TYPE')"
   ]
  },
  {
   "cell_type": "markdown",
   "metadata": {},
   "source": [
    "#### Prepare and Upload Data"
   ]
  },
  {
   "cell_type": "code",
   "execution_count": 14,
   "metadata": {},
   "outputs": [],
   "source": [
    "boto3.Session().resource('s3').Bucket(bucket).Object(interactions_filename).upload_file(interactions_filename)"
   ]
  },
  {
   "cell_type": "markdown",
   "metadata": {},
   "source": [
    "## Configure Amazon Personalize\n",
    "\n",
    "Now that we've prepared our three datasets and uploaded them to S3 we'll need to configure the Amazon Personalize service to understand our data so that it can be used to train models for generating recommendations."
   ]
  },
  {
   "cell_type": "markdown",
   "metadata": {},
   "source": [
    "### Create Schemas for Datasets\n",
    "\n",
    "Amazon Personalize requires a schema for each dataset so it can map the columns in our CSVs to fields for model training. Each schema is declared in JSON using the [Apache Avro](https://avro.apache.org/) format.\n",
    "\n",
    "Let's define and create schemas in Personalize for our datasets."
   ]
  },
  {
   "cell_type": "markdown",
   "metadata": {},
   "source": [
    "#### Items Datsaset Schema"
   ]
  },
  {
   "cell_type": "code",
   "execution_count": 15,
   "metadata": {},
   "outputs": [
    {
     "name": "stdout",
     "output_type": "stream",
     "text": [
      "{\n",
      "  \"schemaArn\": \"arn:aws:personalize:eu-west-1:554456892689:schema/retaildemostore-schema-items\",\n",
      "  \"ResponseMetadata\": {\n",
      "    \"RequestId\": \"1e865bac-95b9-4bad-876d-0b7589acb5d7\",\n",
      "    \"HTTPStatusCode\": 200,\n",
      "    \"HTTPHeaders\": {\n",
      "      \"content-type\": \"application/x-amz-json-1.1\",\n",
      "      \"date\": \"Sat, 12 Sep 2020 14:10:24 GMT\",\n",
      "      \"x-amzn-requestid\": \"1e865bac-95b9-4bad-876d-0b7589acb5d7\",\n",
      "      \"content-length\": \"94\",\n",
      "      \"connection\": \"keep-alive\"\n",
      "    },\n",
      "    \"RetryAttempts\": 0\n",
      "  }\n",
      "}\n"
     ]
    }
   ],
   "source": [
    "items_schema = {\n",
    "    \"type\": \"record\",\n",
    "    \"name\": \"Items\",\n",
    "    \"namespace\": \"com.amazonaws.personalize.schema\",\n",
    "    \"fields\": [\n",
    "        {\n",
    "            \"name\": \"ITEM_ID\",\n",
    "            \"type\": \"string\"\n",
    "        },\n",
    "        {\n",
    "            \"name\": \"CATEGORY\",\n",
    "            \"type\": \"string\",\n",
    "            \"categorical\": True,\n",
    "        },\n",
    "        {\n",
    "            \"name\": \"STYLE\",\n",
    "            \"type\": \"string\",\n",
    "            \"categorical\": True,\n",
    "        }\n",
    "    ],\n",
    "    \"version\": \"1.0\"\n",
    "}\n",
    "\n",
    "create_schema_response = personalize.create_schema(\n",
    "    name = \"retaildemostore-schema-items\",\n",
    "    schema = json.dumps(items_schema)\n",
    ")\n",
    "\n",
    "items_schema_arn = create_schema_response['schemaArn']\n",
    "print(json.dumps(create_schema_response, indent=2))"
   ]
  },
  {
   "cell_type": "markdown",
   "metadata": {},
   "source": [
    "#### Users Dataset Schema"
   ]
  },
  {
   "cell_type": "code",
   "execution_count": 16,
   "metadata": {},
   "outputs": [
    {
     "name": "stdout",
     "output_type": "stream",
     "text": [
      "{\n",
      "  \"schemaArn\": \"arn:aws:personalize:eu-west-1:554456892689:schema/retaildemostore-schema-users\",\n",
      "  \"ResponseMetadata\": {\n",
      "    \"RequestId\": \"9367d63c-be92-448d-b5b4-edcd33329a88\",\n",
      "    \"HTTPStatusCode\": 200,\n",
      "    \"HTTPHeaders\": {\n",
      "      \"content-type\": \"application/x-amz-json-1.1\",\n",
      "      \"date\": \"Sat, 12 Sep 2020 14:11:18 GMT\",\n",
      "      \"x-amzn-requestid\": \"9367d63c-be92-448d-b5b4-edcd33329a88\",\n",
      "      \"content-length\": \"94\",\n",
      "      \"connection\": \"keep-alive\"\n",
      "    },\n",
      "    \"RetryAttempts\": 0\n",
      "  }\n",
      "}\n"
     ]
    }
   ],
   "source": [
    "users_schema = {\n",
    "    \"type\": \"record\",\n",
    "    \"name\": \"Users\",\n",
    "    \"namespace\": \"com.amazonaws.personalize.schema\",\n",
    "    \"fields\": [\n",
    "        {\n",
    "            \"name\": \"USER_ID\",\n",
    "            \"type\": \"string\"\n",
    "        },\n",
    "        {\n",
    "            \"name\": \"AGE\",\n",
    "            \"type\": \"int\"\n",
    "        },\n",
    "        {\n",
    "            \"name\": \"GENDER\",\n",
    "            \"type\": \"string\",\n",
    "            \"categorical\": True,\n",
    "        }\n",
    "    ],\n",
    "    \"version\": \"1.0\"\n",
    "}\n",
    "\n",
    "create_schema_response = personalize.create_schema(\n",
    "    name = \"retaildemostore-schema-users\",\n",
    "    schema = json.dumps(users_schema)\n",
    ")\n",
    "\n",
    "users_schema_arn = create_schema_response['schemaArn']\n",
    "print(json.dumps(create_schema_response, indent=2))"
   ]
  },
  {
   "cell_type": "markdown",
   "metadata": {},
   "source": [
    "#### Interactions Dataset Schema"
   ]
  },
  {
   "cell_type": "code",
   "execution_count": 17,
   "metadata": {},
   "outputs": [
    {
     "name": "stdout",
     "output_type": "stream",
     "text": [
      "{\n",
      "  \"schemaArn\": \"arn:aws:personalize:eu-west-1:554456892689:schema/retaildemostore-schema-interactions\",\n",
      "  \"ResponseMetadata\": {\n",
      "    \"RequestId\": \"c079e7da-280e-403c-a36d-051dc6b1dbce\",\n",
      "    \"HTTPStatusCode\": 200,\n",
      "    \"HTTPHeaders\": {\n",
      "      \"content-type\": \"application/x-amz-json-1.1\",\n",
      "      \"date\": \"Sat, 12 Sep 2020 14:11:51 GMT\",\n",
      "      \"x-amzn-requestid\": \"c079e7da-280e-403c-a36d-051dc6b1dbce\",\n",
      "      \"content-length\": \"101\",\n",
      "      \"connection\": \"keep-alive\"\n",
      "    },\n",
      "    \"RetryAttempts\": 0\n",
      "  }\n",
      "}\n"
     ]
    }
   ],
   "source": [
    "interactions_schema = {\n",
    "    \"type\": \"record\",\n",
    "    \"name\": \"Interactions\",\n",
    "    \"namespace\": \"com.amazonaws.personalize.schema\",\n",
    "    \"fields\": [\n",
    "        {\n",
    "            \"name\": \"ITEM_ID\",\n",
    "            \"type\": \"string\"\n",
    "        },\n",
    "        {\n",
    "            \"name\": \"USER_ID\",\n",
    "            \"type\": \"string\"\n",
    "        },\n",
    "        {\n",
    "            \"name\": \"EVENT_TYPE\",\n",
    "            \"type\": \"string\"\n",
    "        },\n",
    "        {\n",
    "            \"name\": \"TIMESTAMP\",\n",
    "            \"type\": \"long\"\n",
    "        }\n",
    "    ],\n",
    "    \"version\": \"1.0\"\n",
    "}\n",
    "\n",
    "create_schema_response = personalize.create_schema(\n",
    "    name = \"retaildemostore-schema-interactions\",\n",
    "    schema = json.dumps(interactions_schema)\n",
    ")\n",
    "\n",
    "interactions_schema_arn = create_schema_response['schemaArn']\n",
    "print(json.dumps(create_schema_response, indent=2))"
   ]
  },
  {
   "cell_type": "markdown",
   "metadata": {},
   "source": [
    "### Create and Wait for Dataset Group\n",
    "\n",
    "Next we need to create the dataset group that will contain our three datasets."
   ]
  },
  {
   "cell_type": "markdown",
   "metadata": {},
   "source": [
    "#### Create Dataset Group"
   ]
  },
  {
   "cell_type": "code",
   "execution_count": 18,
   "metadata": {},
   "outputs": [
    {
     "name": "stdout",
     "output_type": "stream",
     "text": [
      "{\n",
      "  \"datasetGroupArn\": \"arn:aws:personalize:eu-west-1:554456892689:dataset-group/retaildemostore\",\n",
      "  \"ResponseMetadata\": {\n",
      "    \"RequestId\": \"b1213fe9-7f7f-4f8b-9f7d-cc009a754280\",\n",
      "    \"HTTPStatusCode\": 200,\n",
      "    \"HTTPHeaders\": {\n",
      "      \"content-type\": \"application/x-amz-json-1.1\",\n",
      "      \"date\": \"Sat, 12 Sep 2020 14:12:15 GMT\",\n",
      "      \"x-amzn-requestid\": \"b1213fe9-7f7f-4f8b-9f7d-cc009a754280\",\n",
      "      \"content-length\": \"94\",\n",
      "      \"connection\": \"keep-alive\"\n",
      "    },\n",
      "    \"RetryAttempts\": 0\n",
      "  }\n",
      "}\n",
      "DatasetGroupArn = arn:aws:personalize:eu-west-1:554456892689:dataset-group/retaildemostore\n"
     ]
    }
   ],
   "source": [
    "create_dataset_group_response = personalize.create_dataset_group(\n",
    "    name = 'retaildemostore'\n",
    ")\n",
    "dataset_group_arn = create_dataset_group_response['datasetGroupArn']\n",
    "print(json.dumps(create_dataset_group_response, indent=2))\n",
    "\n",
    "print(f'DatasetGroupArn = {dataset_group_arn}')"
   ]
  },
  {
   "cell_type": "markdown",
   "metadata": {},
   "source": [
    "#### Wait for Dataset Group to Have ACTIVE Status"
   ]
  },
  {
   "cell_type": "code",
   "execution_count": 19,
   "metadata": {},
   "outputs": [
    {
     "name": "stdout",
     "output_type": "stream",
     "text": [
      "DatasetGroup: ACTIVE\n"
     ]
    }
   ],
   "source": [
    "status = None\n",
    "max_time = time.time() + 3*60*60 # 3 hours\n",
    "while time.time() < max_time:\n",
    "    describe_dataset_group_response = personalize.describe_dataset_group(\n",
    "        datasetGroupArn = dataset_group_arn\n",
    "    )\n",
    "    status = describe_dataset_group_response[\"datasetGroup\"][\"status\"]\n",
    "    print(\"DatasetGroup: {}\".format(status))\n",
    "    \n",
    "    if status == \"ACTIVE\" or status == \"CREATE FAILED\":\n",
    "        break\n",
    "        \n",
    "    time.sleep(15)"
   ]
  },
  {
   "cell_type": "markdown",
   "metadata": {},
   "source": [
    "### Create Items Dataset\n",
    "\n",
    "Next we will create the datasets in Personalize for our three dataset types. Let's start with the items dataset."
   ]
  },
  {
   "cell_type": "code",
   "execution_count": 20,
   "metadata": {},
   "outputs": [
    {
     "name": "stdout",
     "output_type": "stream",
     "text": [
      "{\n",
      "  \"datasetArn\": \"arn:aws:personalize:eu-west-1:554456892689:dataset/retaildemostore/ITEMS\",\n",
      "  \"ResponseMetadata\": {\n",
      "    \"RequestId\": \"579500ad-6774-406c-8866-94cee26a5caa\",\n",
      "    \"HTTPStatusCode\": 200,\n",
      "    \"HTTPHeaders\": {\n",
      "      \"content-type\": \"application/x-amz-json-1.1\",\n",
      "      \"date\": \"Sat, 12 Sep 2020 14:16:15 GMT\",\n",
      "      \"x-amzn-requestid\": \"579500ad-6774-406c-8866-94cee26a5caa\",\n",
      "      \"content-length\": \"89\",\n",
      "      \"connection\": \"keep-alive\"\n",
      "    },\n",
      "    \"RetryAttempts\": 0\n",
      "  }\n",
      "}\n"
     ]
    }
   ],
   "source": [
    "dataset_type = \"ITEMS\"\n",
    "create_dataset_response = personalize.create_dataset(\n",
    "    name = \"retaildemostore-dataset-items\",\n",
    "    datasetType = dataset_type,\n",
    "    datasetGroupArn = dataset_group_arn,\n",
    "    schemaArn = items_schema_arn\n",
    ")\n",
    "\n",
    "items_dataset_arn = create_dataset_response['datasetArn']\n",
    "print(json.dumps(create_dataset_response, indent=2))"
   ]
  },
  {
   "cell_type": "markdown",
   "metadata": {},
   "source": [
    "### Create Users Dataset"
   ]
  },
  {
   "cell_type": "code",
   "execution_count": 21,
   "metadata": {},
   "outputs": [
    {
     "name": "stdout",
     "output_type": "stream",
     "text": [
      "{\n",
      "  \"datasetArn\": \"arn:aws:personalize:eu-west-1:554456892689:dataset/retaildemostore/USERS\",\n",
      "  \"ResponseMetadata\": {\n",
      "    \"RequestId\": \"55c05b5e-fd4d-42b4-8b42-1d388b5228d4\",\n",
      "    \"HTTPStatusCode\": 200,\n",
      "    \"HTTPHeaders\": {\n",
      "      \"content-type\": \"application/x-amz-json-1.1\",\n",
      "      \"date\": \"Sat, 12 Sep 2020 14:16:31 GMT\",\n",
      "      \"x-amzn-requestid\": \"55c05b5e-fd4d-42b4-8b42-1d388b5228d4\",\n",
      "      \"content-length\": \"89\",\n",
      "      \"connection\": \"keep-alive\"\n",
      "    },\n",
      "    \"RetryAttempts\": 0\n",
      "  }\n",
      "}\n"
     ]
    }
   ],
   "source": [
    "dataset_type = \"USERS\"\n",
    "create_dataset_response = personalize.create_dataset(\n",
    "    name = \"retaildemostore-dataset-users\",\n",
    "    datasetType = dataset_type,\n",
    "    datasetGroupArn = dataset_group_arn,\n",
    "    schemaArn = users_schema_arn\n",
    ")\n",
    "\n",
    "users_dataset_arn = create_dataset_response['datasetArn']\n",
    "print(json.dumps(create_dataset_response, indent=2))"
   ]
  },
  {
   "cell_type": "markdown",
   "metadata": {},
   "source": [
    "### Create Interactions Dataset"
   ]
  },
  {
   "cell_type": "code",
   "execution_count": 22,
   "metadata": {},
   "outputs": [
    {
     "name": "stdout",
     "output_type": "stream",
     "text": [
      "{\n",
      "  \"datasetArn\": \"arn:aws:personalize:eu-west-1:554456892689:dataset/retaildemostore/INTERACTIONS\",\n",
      "  \"ResponseMetadata\": {\n",
      "    \"RequestId\": \"ed41e680-8609-4cc9-bf46-dcfb683770e0\",\n",
      "    \"HTTPStatusCode\": 200,\n",
      "    \"HTTPHeaders\": {\n",
      "      \"content-type\": \"application/x-amz-json-1.1\",\n",
      "      \"date\": \"Sat, 12 Sep 2020 14:16:39 GMT\",\n",
      "      \"x-amzn-requestid\": \"ed41e680-8609-4cc9-bf46-dcfb683770e0\",\n",
      "      \"content-length\": \"96\",\n",
      "      \"connection\": \"keep-alive\"\n",
      "    },\n",
      "    \"RetryAttempts\": 0\n",
      "  }\n",
      "}\n"
     ]
    }
   ],
   "source": [
    "dataset_type = \"INTERACTIONS\"\n",
    "create_dataset_response = personalize.create_dataset(\n",
    "    name = \"retaildemostore-dataset-interactions\",\n",
    "    datasetType = dataset_type,\n",
    "    datasetGroupArn = dataset_group_arn,\n",
    "    schemaArn = interactions_schema_arn\n",
    ")\n",
    "\n",
    "interactions_dataset_arn = create_dataset_response['datasetArn']\n",
    "print(json.dumps(create_dataset_response, indent=2))"
   ]
  },
  {
   "cell_type": "markdown",
   "metadata": {},
   "source": [
    "## Import Datasets to Personalize\n",
    "\n",
    "Up to this point we have generated CSVs containing data for our users, items, and interactions and staged them in an S3 bucket. We also created schemas in Personalize that define the columns in our CSVs. Then we created a datset group and three datasets in Personalize that will receive our data. In the following steps we will create import jobs with Personalize that will import the datasets from our S3 bucket into the service.\n",
    "\n",
    "### Setup Permissions\n",
    "\n",
    "By default, the Personalize service does not have permission to acccess the data we uploaded into the S3 bucket in our account. In order to grant access to the  Personalize service to read our CSVs, we need to set a Bucket Policy and create an IAM role that the Amazon Personalize service will assume."
   ]
  },
  {
   "cell_type": "markdown",
   "metadata": {},
   "source": [
    "#### Attach policy to S3 bucket"
   ]
  },
  {
   "cell_type": "code",
   "execution_count": 23,
   "metadata": {},
   "outputs": [],
   "source": [
    "s3 = boto3.client(\"s3\")\n",
    "\n",
    "policy = {\n",
    "    \"Version\": \"2012-10-17\",\n",
    "    \"Id\": \"PersonalizeS3BucketAccessPolicy\",\n",
    "    \"Statement\": [\n",
    "        {\n",
    "            \"Sid\": \"PersonalizeS3BucketAccessPolicy\",\n",
    "            \"Effect\": \"Allow\",\n",
    "            \"Principal\": {\n",
    "                \"Service\": \"personalize.amazonaws.com\"\n",
    "            },\n",
    "            \"Action\": [\n",
    "                \"s3:GetObject\",\n",
    "                \"s3:ListBucket\"\n",
    "            ],\n",
    "            \"Resource\": [\n",
    "                \"arn:aws:s3:::{}\".format(bucket),\n",
    "                \"arn:aws:s3:::{}/*\".format(bucket)\n",
    "            ]\n",
    "        }\n",
    "    ]\n",
    "}\n",
    "\n",
    "s3.put_bucket_policy(Bucket=bucket, Policy=json.dumps(policy));"
   ]
  },
  {
   "cell_type": "markdown",
   "metadata": {},
   "source": [
    "#### Create S3 Read Only Access Role"
   ]
  },
  {
   "cell_type": "code",
   "execution_count": 24,
   "metadata": {},
   "outputs": [
    {
     "name": "stdout",
     "output_type": "stream",
     "text": [
      "IAM Role: arn:aws:iam::554456892689:role/retaildemostore-eu-west-1-PersonalizeS3\n"
     ]
    }
   ],
   "source": [
    "iam = boto3.client(\"iam\")\n",
    "\n",
    "role_name = Uid+\"-PersonalizeS3\"\n",
    "assume_role_policy_document = {\n",
    "    \"Version\": \"2012-10-17\",\n",
    "    \"Statement\": [\n",
    "        {\n",
    "          \"Effect\": \"Allow\",\n",
    "          \"Principal\": {\n",
    "            \"Service\": \"personalize.amazonaws.com\"\n",
    "          },\n",
    "          \"Action\": \"sts:AssumeRole\"\n",
    "        }\n",
    "    ]\n",
    "}\n",
    "\n",
    "create_role_response = iam.create_role(\n",
    "    RoleName = role_name,\n",
    "    AssumeRolePolicyDocument = json.dumps(assume_role_policy_document)\n",
    ");\n",
    "\n",
    "iam.attach_role_policy(\n",
    "    RoleName = role_name,\n",
    "    PolicyArn = \"arn:aws:iam::aws:policy/AmazonS3ReadOnlyAccess\"\n",
    ");\n",
    "\n",
    "role_arn = create_role_response[\"Role\"][\"Arn\"]\n",
    "print('IAM Role: {}'.format(role_arn))\n",
    "# Pause to allow role to fully persist\n",
    "time.sleep(10)"
   ]
  },
  {
   "cell_type": "markdown",
   "metadata": {},
   "source": [
    "### Create Import Jobs\n",
    "\n",
    "With the permissions in place to allow Personalize to access our CSV files, let's create three import jobs to import each file into its respective dataset. Each import job can take several minutes to complete so we'll create all three and then wait for them all to complete."
   ]
  },
  {
   "cell_type": "markdown",
   "metadata": {},
   "source": [
    "#### Create Items Dataset Import Job"
   ]
  },
  {
   "cell_type": "code",
   "execution_count": 25,
   "metadata": {},
   "outputs": [
    {
     "name": "stdout",
     "output_type": "stream",
     "text": [
      "{\n",
      "  \"datasetImportJobArn\": \"arn:aws:personalize:eu-west-1:554456892689:dataset-import-job/retaildemostore-dataset-items-import-job\",\n",
      "  \"ResponseMetadata\": {\n",
      "    \"RequestId\": \"ac827f96-e249-4e85-8f15-80a5ed642043\",\n",
      "    \"HTTPStatusCode\": 200,\n",
      "    \"HTTPHeaders\": {\n",
      "      \"content-type\": \"application/x-amz-json-1.1\",\n",
      "      \"date\": \"Sat, 12 Sep 2020 14:19:18 GMT\",\n",
      "      \"x-amzn-requestid\": \"ac827f96-e249-4e85-8f15-80a5ed642043\",\n",
      "      \"content-length\": \"128\",\n",
      "      \"connection\": \"keep-alive\"\n",
      "    },\n",
      "    \"RetryAttempts\": 0\n",
      "  }\n",
      "}\n"
     ]
    }
   ],
   "source": [
    "items_create_dataset_import_job_response = personalize.create_dataset_import_job(\n",
    "    jobName = \"retaildemostore-dataset-items-import-job\",\n",
    "    datasetArn = items_dataset_arn,\n",
    "    dataSource = {\n",
    "        \"dataLocation\": \"s3://{}/{}\".format(bucket, items_filename)\n",
    "    },\n",
    "    roleArn = role_arn\n",
    ")\n",
    "\n",
    "items_dataset_import_job_arn = items_create_dataset_import_job_response['datasetImportJobArn']\n",
    "print(json.dumps(items_create_dataset_import_job_response, indent=2))"
   ]
  },
  {
   "cell_type": "markdown",
   "metadata": {},
   "source": [
    "#### Create Users Dataset Import Job"
   ]
  },
  {
   "cell_type": "code",
   "execution_count": 26,
   "metadata": {},
   "outputs": [
    {
     "name": "stdout",
     "output_type": "stream",
     "text": [
      "{\n",
      "  \"datasetImportJobArn\": \"arn:aws:personalize:eu-west-1:554456892689:dataset-import-job/retaildemostore-dataset-users-import-job\",\n",
      "  \"ResponseMetadata\": {\n",
      "    \"RequestId\": \"a219a54d-e4ab-401a-a5ef-caf71aabcf35\",\n",
      "    \"HTTPStatusCode\": 200,\n",
      "    \"HTTPHeaders\": {\n",
      "      \"content-type\": \"application/x-amz-json-1.1\",\n",
      "      \"date\": \"Sat, 12 Sep 2020 14:19:33 GMT\",\n",
      "      \"x-amzn-requestid\": \"a219a54d-e4ab-401a-a5ef-caf71aabcf35\",\n",
      "      \"content-length\": \"128\",\n",
      "      \"connection\": \"keep-alive\"\n",
      "    },\n",
      "    \"RetryAttempts\": 0\n",
      "  }\n",
      "}\n"
     ]
    }
   ],
   "source": [
    "users_create_dataset_import_job_response = personalize.create_dataset_import_job(\n",
    "    jobName = \"retaildemostore-dataset-users-import-job\",\n",
    "    datasetArn = users_dataset_arn,\n",
    "    dataSource = {\n",
    "        \"dataLocation\": \"s3://{}/{}\".format(bucket, users_filename)\n",
    "    },\n",
    "    roleArn = role_arn\n",
    ")\n",
    "\n",
    "users_dataset_import_job_arn = users_create_dataset_import_job_response['datasetImportJobArn']\n",
    "print(json.dumps(users_create_dataset_import_job_response, indent=2))"
   ]
  },
  {
   "cell_type": "markdown",
   "metadata": {},
   "source": [
    "#### Create Interactions Dataset Import Job"
   ]
  },
  {
   "cell_type": "code",
   "execution_count": 27,
   "metadata": {},
   "outputs": [
    {
     "name": "stdout",
     "output_type": "stream",
     "text": [
      "{\n",
      "  \"datasetImportJobArn\": \"arn:aws:personalize:eu-west-1:554456892689:dataset-import-job/retaildemostore-dataset-interactions-import-job\",\n",
      "  \"ResponseMetadata\": {\n",
      "    \"RequestId\": \"59673bc3-d150-424c-930c-b8ac60086e2b\",\n",
      "    \"HTTPStatusCode\": 200,\n",
      "    \"HTTPHeaders\": {\n",
      "      \"content-type\": \"application/x-amz-json-1.1\",\n",
      "      \"date\": \"Sat, 12 Sep 2020 14:19:42 GMT\",\n",
      "      \"x-amzn-requestid\": \"59673bc3-d150-424c-930c-b8ac60086e2b\",\n",
      "      \"content-length\": \"135\",\n",
      "      \"connection\": \"keep-alive\"\n",
      "    },\n",
      "    \"RetryAttempts\": 0\n",
      "  }\n",
      "}\n"
     ]
    }
   ],
   "source": [
    "interactions_create_dataset_import_job_response = personalize.create_dataset_import_job(\n",
    "    jobName = \"retaildemostore-dataset-interactions-import-job\",\n",
    "    datasetArn = interactions_dataset_arn,\n",
    "    dataSource = {\n",
    "        \"dataLocation\": \"s3://{}/{}\".format(bucket, interactions_filename)\n",
    "    },\n",
    "    roleArn = role_arn\n",
    ")\n",
    "\n",
    "interactions_dataset_import_job_arn = interactions_create_dataset_import_job_response['datasetImportJobArn']\n",
    "print(json.dumps(interactions_create_dataset_import_job_response, indent=2))"
   ]
  },
  {
   "cell_type": "markdown",
   "metadata": {},
   "source": [
    "### Wait for Import Jobs to Complete\n",
    "\n",
    "It will take 10-15 minutes for the import jobs to complete, while you're waiting you can learn more about Datasets and Schemas here: https://docs.aws.amazon.com/personalize/latest/dg/how-it-works-dataset-schema.html\n",
    "\n",
    "We will wait for all three jobs to finish."
   ]
  },
  {
   "cell_type": "markdown",
   "metadata": {},
   "source": [
    "#### Wait for Items Import Job to Complete"
   ]
  },
  {
   "cell_type": "code",
   "execution_count": 28,
   "metadata": {},
   "outputs": [
    {
     "name": "stdout",
     "output_type": "stream",
     "text": [
      "Import job arn:aws:personalize:eu-west-1:554456892689:dataset-import-job/retaildemostore-dataset-interactions-import-job successfully completed\n",
      "Import job arn:aws:personalize:eu-west-1:554456892689:dataset-import-job/retaildemostore-dataset-users-import-job successfully completed\n",
      "Import job arn:aws:personalize:eu-west-1:554456892689:dataset-import-job/retaildemostore-dataset-items-import-job successfully completed\n",
      "All import jobs have ended\n",
      "CPU times: user 24.2 ms, sys: 7 µs, total: 24.2 ms\n",
      "Wall time: 1.12 s\n"
     ]
    }
   ],
   "source": [
    "%%time\n",
    "\n",
    "import_job_arns = [ items_dataset_import_job_arn, users_dataset_import_job_arn, interactions_dataset_import_job_arn ]\n",
    "\n",
    "max_time = time.time() + 3*60*60 # 3 hours\n",
    "while time.time() < max_time:\n",
    "    for job_arn in reversed(import_job_arns):\n",
    "        import_job_response = personalize.describe_dataset_import_job(\n",
    "            datasetImportJobArn = job_arn\n",
    "        )\n",
    "        status = import_job_response[\"datasetImportJob\"]['status']\n",
    "\n",
    "        if status == \"ACTIVE\":\n",
    "            print(f'Import job {job_arn} successfully completed')\n",
    "            import_job_arns.remove(job_arn)\n",
    "        elif status == \"CREATE FAILED\":\n",
    "            print(f'Import job {job_arn} failed')\n",
    "            if import_job_response.get('failureReason'):\n",
    "                print('   Reason: ' + import_job_response['failureReason'])\n",
    "            import_job_arns.remove(job_arn)\n",
    "\n",
    "    if len(import_job_arns) > 0:\n",
    "        print('At least one dataset import job still in progress')\n",
    "        time.sleep(60)\n",
    "    else:\n",
    "        print(\"All import jobs have ended\")\n",
    "        break"
   ]
  },
  {
   "cell_type": "markdown",
   "metadata": {},
   "source": [
    "## Create Solutions\n",
    "\n",
    "With our three datasets imported into our dataset group, we can now turn to training models. As a reminder, we will be training three models in this workshop to support three different personalization use-cases. One model will be used to make related product recommendations on the product detail view/page, another model will be used to make personalized product recommendations to users on the homepage, and the last model will be used to rerank product lists on the category and featured products page. In Amazon Personalize, training a model involves creating a Solution and Solution Version. So when we are finished we will have three solutions and a solution version for each solution. \n",
    "\n",
    "When creating a solution, you provide your dataset group and the recipe for training. Let's declare the recipes that we will need for our solutions."
   ]
  },
  {
   "cell_type": "markdown",
   "metadata": {},
   "source": [
    "### List Recipes\n",
    "\n",
    "First, let's list all available recipes."
   ]
  },
  {
   "cell_type": "code",
   "execution_count": 29,
   "metadata": {},
   "outputs": [
    {
     "data": {
      "text/plain": [
       "{'recipes': [{'name': 'aws-hrnn',\n",
       "   'recipeArn': 'arn:aws:personalize:::recipe/aws-hrnn',\n",
       "   'status': 'ACTIVE',\n",
       "   'creationDateTime': datetime.datetime(2019, 6, 10, 0, 0, tzinfo=tzlocal()),\n",
       "   'lastUpdatedDateTime': datetime.datetime(2020, 8, 25, 17, 13, 21, 939000, tzinfo=tzlocal())},\n",
       "  {'name': 'aws-hrnn-coldstart',\n",
       "   'recipeArn': 'arn:aws:personalize:::recipe/aws-hrnn-coldstart',\n",
       "   'status': 'ACTIVE',\n",
       "   'creationDateTime': datetime.datetime(2019, 6, 10, 0, 0, tzinfo=tzlocal()),\n",
       "   'lastUpdatedDateTime': datetime.datetime(2020, 8, 25, 17, 13, 21, 938000, tzinfo=tzlocal())},\n",
       "  {'name': 'aws-hrnn-metadata',\n",
       "   'recipeArn': 'arn:aws:personalize:::recipe/aws-hrnn-metadata',\n",
       "   'status': 'ACTIVE',\n",
       "   'creationDateTime': datetime.datetime(2019, 6, 10, 0, 0, tzinfo=tzlocal()),\n",
       "   'lastUpdatedDateTime': datetime.datetime(2020, 8, 25, 17, 13, 21, 938000, tzinfo=tzlocal())},\n",
       "  {'name': 'aws-personalized-ranking',\n",
       "   'recipeArn': 'arn:aws:personalize:::recipe/aws-personalized-ranking',\n",
       "   'status': 'ACTIVE',\n",
       "   'creationDateTime': datetime.datetime(2019, 6, 10, 0, 0, tzinfo=tzlocal()),\n",
       "   'lastUpdatedDateTime': datetime.datetime(2020, 8, 25, 17, 13, 21, 938000, tzinfo=tzlocal())},\n",
       "  {'name': 'aws-popularity-count',\n",
       "   'recipeArn': 'arn:aws:personalize:::recipe/aws-popularity-count',\n",
       "   'status': 'ACTIVE',\n",
       "   'creationDateTime': datetime.datetime(2019, 6, 10, 0, 0, tzinfo=tzlocal()),\n",
       "   'lastUpdatedDateTime': datetime.datetime(2020, 8, 25, 17, 13, 21, 939000, tzinfo=tzlocal())},\n",
       "  {'name': 'aws-sims',\n",
       "   'recipeArn': 'arn:aws:personalize:::recipe/aws-sims',\n",
       "   'status': 'ACTIVE',\n",
       "   'creationDateTime': datetime.datetime(2019, 6, 10, 0, 0, tzinfo=tzlocal()),\n",
       "   'lastUpdatedDateTime': datetime.datetime(2020, 8, 25, 17, 13, 21, 938000, tzinfo=tzlocal())},\n",
       "  {'name': 'aws-user-personalization',\n",
       "   'recipeArn': 'arn:aws:personalize:::recipe/aws-user-personalization',\n",
       "   'status': 'ACTIVE',\n",
       "   'creationDateTime': datetime.datetime(2019, 6, 10, 0, 0, tzinfo=tzlocal()),\n",
       "   'lastUpdatedDateTime': datetime.datetime(2020, 8, 25, 17, 13, 21, 939000, tzinfo=tzlocal())}],\n",
       " 'ResponseMetadata': {'RequestId': 'cc60f105-523f-4ad9-9738-fc2e7caeb0ed',\n",
       "  'HTTPStatusCode': 200,\n",
       "  'HTTPHeaders': {'content-type': 'application/x-amz-json-1.1',\n",
       "   'date': 'Sat, 12 Sep 2020 14:47:35 GMT',\n",
       "   'x-amzn-requestid': 'cc60f105-523f-4ad9-9738-fc2e7caeb0ed',\n",
       "   'content-length': '1259',\n",
       "   'connection': 'keep-alive'},\n",
       "  'RetryAttempts': 0}}"
      ]
     },
     "execution_count": 29,
     "metadata": {},
     "output_type": "execute_result"
    }
   ],
   "source": [
    "list_recipes_response = personalize.list_recipes()\n",
    "list_recipes_response"
   ]
  },
  {
   "cell_type": "markdown",
   "metadata": {},
   "source": [
    "As you can see above, there are several recipes to choose from. Let's declare the recipes for each Solution."
   ]
  },
  {
   "cell_type": "markdown",
   "metadata": {},
   "source": [
    "#### Declare Personalize Recipe for Related Products\n",
    "\n",
    "On the product detail page we want to display related products so we'll create a campaign using the [SIMS](https://docs.aws.amazon.com/personalize/latest/dg/native-recipe-sims.html) recipe.\n",
    "\n",
    "> The Item-to-item similarities (SIMS) recipe is based on the concept of collaborative filtering. A SIMS model leverages user-item interaction data to recommend items similar to a given item. In the absence of sufficient user behavior data for an item, this recipe recommends popular items."
   ]
  },
  {
   "cell_type": "code",
   "execution_count": 31,
   "metadata": {},
   "outputs": [],
   "source": [
    "related_recipe_arn = \"arn:aws:personalize:::recipe/aws-sims\""
   ]
  },
  {
   "cell_type": "markdown",
   "metadata": {},
   "source": [
    "#### Declare Personalize Recipe for Product Recommendations\n",
    "\n",
    "Since we are providing metadata for users and items, we will be using the [HRNN-Metadata](https://docs.aws.amazon.com/personalize/latest/dg/native-recipe-hrnn-metadata.html) recipe for our product recommendations solution.\n",
    "\n",
    "> The HRNN-Metadata recipe predicts the items that a user will interact with. It is similar to the HRNN recipe, with additional features derived from contextual, user, and item metadata (from Interactions, Users, and Items datasets, respectively). HRNN-Metadata provides accuracy benefits over non-metadata models when high quality metadata is available. Using this recipe might require longer training times."
   ]
  },
  {
   "cell_type": "code",
   "execution_count": 32,
   "metadata": {},
   "outputs": [],
   "source": [
    "recommend_recipe_arn = \"arn:aws:personalize:::recipe/aws-hrnn-metadata\""
   ]
  },
  {
   "cell_type": "markdown",
   "metadata": {},
   "source": [
    "#### Declare Personalize Recipe for Personalized Ranking\n",
    "\n",
    "In use-cases where we have a curated list of products, we can use the [Personalized-Ranking](https://docs.aws.amazon.com/personalize/latest/dg/native-recipe-search.html) recipe to reorder the products for the current user.\n",
    "\n",
    "> The Personalized-Ranking recipe generates personalized rankings. A personalized ranking is a list of recommended items that are re-ranked for a specific user."
   ]
  },
  {
   "cell_type": "code",
   "execution_count": 33,
   "metadata": {},
   "outputs": [],
   "source": [
    "ranking_recipe_arn = \"arn:aws:personalize:::recipe/aws-personalized-ranking\""
   ]
  },
  {
   "cell_type": "markdown",
   "metadata": {},
   "source": [
    "### Create Solutions and Solution Versions\n",
    "\n",
    "With our recipes defined, we can now create our solutions and solution versions."
   ]
  },
  {
   "cell_type": "markdown",
   "metadata": {},
   "source": [
    "#### Create Related Products Solution"
   ]
  },
  {
   "cell_type": "code",
   "execution_count": 34,
   "metadata": {},
   "outputs": [
    {
     "name": "stdout",
     "output_type": "stream",
     "text": [
      "{\n",
      "  \"solutionArn\": \"arn:aws:personalize:eu-west-1:554456892689:solution/retaildemostore-related-products\",\n",
      "  \"ResponseMetadata\": {\n",
      "    \"RequestId\": \"8d1dd5ae-8f40-4df3-ad88-a924eca043f6\",\n",
      "    \"HTTPStatusCode\": 200,\n",
      "    \"HTTPHeaders\": {\n",
      "      \"content-type\": \"application/x-amz-json-1.1\",\n",
      "      \"date\": \"Sat, 12 Sep 2020 14:51:52 GMT\",\n",
      "      \"x-amzn-requestid\": \"8d1dd5ae-8f40-4df3-ad88-a924eca043f6\",\n",
      "      \"content-length\": \"102\",\n",
      "      \"connection\": \"keep-alive\"\n",
      "    },\n",
      "    \"RetryAttempts\": 0\n",
      "  }\n",
      "}\n"
     ]
    }
   ],
   "source": [
    "create_solution_response = personalize.create_solution(\n",
    "    name = \"retaildemostore-related-products\",\n",
    "    datasetGroupArn = dataset_group_arn,\n",
    "    recipeArn = related_recipe_arn\n",
    ")\n",
    "\n",
    "related_solution_arn = create_solution_response['solutionArn']\n",
    "print(json.dumps(create_solution_response, indent=2))"
   ]
  },
  {
   "cell_type": "markdown",
   "metadata": {},
   "source": [
    "#### Create Related Products Solution Version"
   ]
  },
  {
   "cell_type": "code",
   "execution_count": 35,
   "metadata": {},
   "outputs": [
    {
     "name": "stdout",
     "output_type": "stream",
     "text": [
      "{\n",
      "  \"solutionVersionArn\": \"arn:aws:personalize:eu-west-1:554456892689:solution/retaildemostore-related-products/66321e4a\",\n",
      "  \"ResponseMetadata\": {\n",
      "    \"RequestId\": \"e43c935e-93c0-4af2-a69c-0462f96bd552\",\n",
      "    \"HTTPStatusCode\": 200,\n",
      "    \"HTTPHeaders\": {\n",
      "      \"content-type\": \"application/x-amz-json-1.1\",\n",
      "      \"date\": \"Sat, 12 Sep 2020 14:52:05 GMT\",\n",
      "      \"x-amzn-requestid\": \"e43c935e-93c0-4af2-a69c-0462f96bd552\",\n",
      "      \"content-length\": \"118\",\n",
      "      \"connection\": \"keep-alive\"\n",
      "    },\n",
      "    \"RetryAttempts\": 0\n",
      "  }\n",
      "}\n"
     ]
    }
   ],
   "source": [
    "create_solution_version_response = personalize.create_solution_version(\n",
    "    solutionArn = related_solution_arn\n",
    ")\n",
    "\n",
    "related_solution_version_arn = create_solution_version_response['solutionVersionArn']\n",
    "print(json.dumps(create_solution_version_response, indent=2))"
   ]
  },
  {
   "cell_type": "markdown",
   "metadata": {},
   "source": [
    "#### Create Product Recommendation Solution"
   ]
  },
  {
   "cell_type": "code",
   "execution_count": 36,
   "metadata": {},
   "outputs": [
    {
     "name": "stdout",
     "output_type": "stream",
     "text": [
      "{\n",
      "  \"solutionArn\": \"arn:aws:personalize:eu-west-1:554456892689:solution/retaildemostore-product-personalization\",\n",
      "  \"ResponseMetadata\": {\n",
      "    \"RequestId\": \"49ef0e5d-4b60-4da1-87f2-df2068926b93\",\n",
      "    \"HTTPStatusCode\": 200,\n",
      "    \"HTTPHeaders\": {\n",
      "      \"content-type\": \"application/x-amz-json-1.1\",\n",
      "      \"date\": \"Sat, 12 Sep 2020 14:52:11 GMT\",\n",
      "      \"x-amzn-requestid\": \"49ef0e5d-4b60-4da1-87f2-df2068926b93\",\n",
      "      \"content-length\": \"109\",\n",
      "      \"connection\": \"keep-alive\"\n",
      "    },\n",
      "    \"RetryAttempts\": 0\n",
      "  }\n",
      "}\n"
     ]
    }
   ],
   "source": [
    "create_solution_response = personalize.create_solution(\n",
    "    name = \"retaildemostore-product-personalization\",\n",
    "    datasetGroupArn = dataset_group_arn,\n",
    "    recipeArn = recommend_recipe_arn\n",
    ")\n",
    "\n",
    "recommend_solution_arn = create_solution_response['solutionArn']\n",
    "print(json.dumps(create_solution_response, indent=2))"
   ]
  },
  {
   "cell_type": "markdown",
   "metadata": {},
   "source": [
    "#### Create Product Recommendation Solution Version"
   ]
  },
  {
   "cell_type": "code",
   "execution_count": 37,
   "metadata": {},
   "outputs": [
    {
     "name": "stdout",
     "output_type": "stream",
     "text": [
      "{\n",
      "  \"solutionVersionArn\": \"arn:aws:personalize:eu-west-1:554456892689:solution/retaildemostore-product-personalization/ea66101f\",\n",
      "  \"ResponseMetadata\": {\n",
      "    \"RequestId\": \"81fa56fb-ae6d-4962-b8d3-cff95cd3699a\",\n",
      "    \"HTTPStatusCode\": 200,\n",
      "    \"HTTPHeaders\": {\n",
      "      \"content-type\": \"application/x-amz-json-1.1\",\n",
      "      \"date\": \"Sat, 12 Sep 2020 14:52:19 GMT\",\n",
      "      \"x-amzn-requestid\": \"81fa56fb-ae6d-4962-b8d3-cff95cd3699a\",\n",
      "      \"content-length\": \"125\",\n",
      "      \"connection\": \"keep-alive\"\n",
      "    },\n",
      "    \"RetryAttempts\": 0\n",
      "  }\n",
      "}\n"
     ]
    }
   ],
   "source": [
    "create_solution_version_response = personalize.create_solution_version(\n",
    "    solutionArn = recommend_solution_arn\n",
    ")\n",
    "\n",
    "recommend_solution_version_arn = create_solution_version_response['solutionVersionArn']\n",
    "print(json.dumps(create_solution_version_response, indent=2))"
   ]
  },
  {
   "cell_type": "markdown",
   "metadata": {},
   "source": [
    "#### Create Personalized Ranking Solution"
   ]
  },
  {
   "cell_type": "code",
   "execution_count": 38,
   "metadata": {},
   "outputs": [
    {
     "name": "stdout",
     "output_type": "stream",
     "text": [
      "{\n",
      "  \"solutionArn\": \"arn:aws:personalize:eu-west-1:554456892689:solution/retaildemostore-personalized-ranking\",\n",
      "  \"ResponseMetadata\": {\n",
      "    \"RequestId\": \"20cce176-8ee3-42e5-95bf-0b443284908d\",\n",
      "    \"HTTPStatusCode\": 200,\n",
      "    \"HTTPHeaders\": {\n",
      "      \"content-type\": \"application/x-amz-json-1.1\",\n",
      "      \"date\": \"Sat, 12 Sep 2020 14:52:27 GMT\",\n",
      "      \"x-amzn-requestid\": \"20cce176-8ee3-42e5-95bf-0b443284908d\",\n",
      "      \"content-length\": \"106\",\n",
      "      \"connection\": \"keep-alive\"\n",
      "    },\n",
      "    \"RetryAttempts\": 0\n",
      "  }\n",
      "}\n"
     ]
    }
   ],
   "source": [
    "create_solution_response = personalize.create_solution(\n",
    "    name = \"retaildemostore-personalized-ranking\",\n",
    "    datasetGroupArn = dataset_group_arn,\n",
    "    recipeArn = ranking_recipe_arn\n",
    ")\n",
    "\n",
    "ranking_solution_arn = create_solution_response['solutionArn']\n",
    "print(json.dumps(create_solution_response, indent=2))"
   ]
  },
  {
   "cell_type": "markdown",
   "metadata": {},
   "source": [
    "#### Create Personalized Ranking Solution Version"
   ]
  },
  {
   "cell_type": "code",
   "execution_count": 39,
   "metadata": {},
   "outputs": [
    {
     "name": "stdout",
     "output_type": "stream",
     "text": [
      "{\n",
      "  \"solutionVersionArn\": \"arn:aws:personalize:eu-west-1:554456892689:solution/retaildemostore-personalized-ranking/a2dfc89a\",\n",
      "  \"ResponseMetadata\": {\n",
      "    \"RequestId\": \"15d8d6cd-7346-4b5f-beab-aadffdb61131\",\n",
      "    \"HTTPStatusCode\": 200,\n",
      "    \"HTTPHeaders\": {\n",
      "      \"content-type\": \"application/x-amz-json-1.1\",\n",
      "      \"date\": \"Sat, 12 Sep 2020 14:52:33 GMT\",\n",
      "      \"x-amzn-requestid\": \"15d8d6cd-7346-4b5f-beab-aadffdb61131\",\n",
      "      \"content-length\": \"122\",\n",
      "      \"connection\": \"keep-alive\"\n",
      "    },\n",
      "    \"RetryAttempts\": 0\n",
      "  }\n",
      "}\n"
     ]
    }
   ],
   "source": [
    "create_solution_version_response = personalize.create_solution_version(\n",
    "    solutionArn = ranking_solution_arn\n",
    ")\n",
    "\n",
    "ranking_solution_version_arn = create_solution_version_response['solutionVersionArn']\n",
    "print(json.dumps(create_solution_version_response, indent=2))"
   ]
  },
  {
   "cell_type": "markdown",
   "metadata": {},
   "source": [
    "### Wait for Solution Versions to Complete\n",
    "\n",
    "It can take 40-60 minutes for all solution versions to be created. During this process a model is being trained and tested with the data contained within your datasets. The duration of training jobs can increase based on the size of the dataset, training parameters and using AutoML vs. manually selecting a recipe. We submitted requests for all three solutions and versions at once so they are trained in parallel and then below we will wait for all three to finish.\n",
    "\n",
    "While you are waiting for this process to complete you can learn more about solutions here: https://docs.aws.amazon.com/personalize/latest/dg/training-deploying-solutions.html"
   ]
  },
  {
   "cell_type": "markdown",
   "metadata": {},
   "source": [
    "#### Wait for Related Products Solution Version to Have ACTIVE Status"
   ]
  },
  {
   "cell_type": "code",
   "execution_count": 40,
   "metadata": {},
   "outputs": [
    {
     "name": "stdout",
     "output_type": "stream",
     "text": [
      "Solution version arn:aws:personalize:eu-west-1:554456892689:solution/retaildemostore-personalized-ranking/a2dfc89a successfully completed\n",
      "Solution version arn:aws:personalize:eu-west-1:554456892689:solution/retaildemostore-product-personalization/ea66101f successfully completed\n",
      "Solution version arn:aws:personalize:eu-west-1:554456892689:solution/retaildemostore-related-products/66321e4a successfully completed\n",
      "All solution versions have completed\n",
      "CPU times: user 24.2 ms, sys: 6 µs, total: 24.2 ms\n",
      "Wall time: 1.12 s\n"
     ]
    }
   ],
   "source": [
    "%%time\n",
    "\n",
    "soln_ver_arns = [ related_solution_version_arn, recommend_solution_version_arn, ranking_solution_version_arn ]\n",
    "\n",
    "max_time = time.time() + 3*60*60 # 3 hours\n",
    "while time.time() < max_time:\n",
    "    for soln_ver_arn in reversed(soln_ver_arns):\n",
    "        soln_ver_response = personalize.describe_solution_version(\n",
    "            solutionVersionArn = soln_ver_arn\n",
    "        )\n",
    "        status = soln_ver_response[\"solutionVersion\"][\"status\"]\n",
    "\n",
    "        if status == \"ACTIVE\":\n",
    "            print(f'Solution version {soln_ver_arn} successfully completed')\n",
    "            soln_ver_arns.remove(soln_ver_arn)\n",
    "        elif status == \"CREATE FAILED\":\n",
    "            print(f'Solution version {soln_ver_arn} failed')\n",
    "            if soln_ver_response.get('failureReason'):\n",
    "                print('   Reason: ' + soln_ver_response['failureReason'])\n",
    "            soln_ver_arns.remove(soln_ver_arn)\n",
    "\n",
    "    if len(soln_ver_arns) > 0:\n",
    "        print('At least one solution version is still in progress')\n",
    "        time.sleep(60)\n",
    "    else:\n",
    "        print(\"All solution versions have completed\")\n",
    "        break"
   ]
  },
  {
   "cell_type": "markdown",
   "metadata": {},
   "source": [
    "### Evaluate Offline Metrics for Solution Versions\n",
    "\n",
    "Amazon Personalize provides [offline metrics](https://docs.aws.amazon.com/personalize/latest/dg/working-with-training-metrics.html#working-with-training-metrics-metrics) that allow you to evaluate the performance of the solution version before you deploy the model in your application. Metrics can also be used to view the effects of modifying a Solution's hyperparameters or to compare the metrics between solutions that use the same training data but created with different recipes.\n",
    "\n",
    "Let's retrieve the metrics for the solution versions we just created."
   ]
  },
  {
   "cell_type": "markdown",
   "metadata": {},
   "source": [
    "#### Related Products Metrics"
   ]
  },
  {
   "cell_type": "code",
   "execution_count": 41,
   "metadata": {},
   "outputs": [
    {
     "name": "stdout",
     "output_type": "stream",
     "text": [
      "{\n",
      "  \"solutionVersionArn\": \"arn:aws:personalize:eu-west-1:554456892689:solution/retaildemostore-related-products/66321e4a\",\n",
      "  \"metrics\": {\n",
      "    \"coverage\": 1.0,\n",
      "    \"mean_reciprocal_rank_at_25\": 0.6189,\n",
      "    \"normalized_discounted_cumulative_gain_at_10\": 0.548,\n",
      "    \"normalized_discounted_cumulative_gain_at_25\": 0.6422,\n",
      "    \"normalized_discounted_cumulative_gain_at_5\": 0.4355,\n",
      "    \"precision_at_10\": 0.2933,\n",
      "    \"precision_at_25\": 0.1665,\n",
      "    \"precision_at_5\": 0.3436\n",
      "  },\n",
      "  \"ResponseMetadata\": {\n",
      "    \"RequestId\": \"7ef06b5c-02ce-4628-bd1a-b97a8c05dc8e\",\n",
      "    \"HTTPStatusCode\": 200,\n",
      "    \"HTTPHeaders\": {\n",
      "      \"content-type\": \"application/x-amz-json-1.1\",\n",
      "      \"date\": \"Sat, 12 Sep 2020 16:01:52 GMT\",\n",
      "      \"x-amzn-requestid\": \"7ef06b5c-02ce-4628-bd1a-b97a8c05dc8e\",\n",
      "      \"content-length\": \"412\",\n",
      "      \"connection\": \"keep-alive\"\n",
      "    },\n",
      "    \"RetryAttempts\": 0\n",
      "  }\n",
      "}\n"
     ]
    }
   ],
   "source": [
    "get_solution_metrics_response = personalize.get_solution_metrics(\n",
    "    solutionVersionArn = related_solution_version_arn\n",
    ")\n",
    "\n",
    "print(json.dumps(get_solution_metrics_response, indent=2))"
   ]
  },
  {
   "cell_type": "markdown",
   "metadata": {},
   "source": [
    "#### Product Recommendations Metrics"
   ]
  },
  {
   "cell_type": "code",
   "execution_count": 42,
   "metadata": {},
   "outputs": [
    {
     "name": "stdout",
     "output_type": "stream",
     "text": [
      "{\n",
      "  \"solutionVersionArn\": \"arn:aws:personalize:eu-west-1:554456892689:solution/retaildemostore-product-personalization/ea66101f\",\n",
      "  \"metrics\": {\n",
      "    \"coverage\": 1.0,\n",
      "    \"mean_reciprocal_rank_at_25\": 0.762,\n",
      "    \"normalized_discounted_cumulative_gain_at_10\": 0.6742,\n",
      "    \"normalized_discounted_cumulative_gain_at_25\": 0.7555,\n",
      "    \"normalized_discounted_cumulative_gain_at_5\": 0.5782,\n",
      "    \"precision_at_10\": 0.3848,\n",
      "    \"precision_at_25\": 0.2005,\n",
      "    \"precision_at_5\": 0.4982\n",
      "  },\n",
      "  \"ResponseMetadata\": {\n",
      "    \"RequestId\": \"509975a8-b56b-47bc-ad9e-6a812b733e0f\",\n",
      "    \"HTTPStatusCode\": 200,\n",
      "    \"HTTPHeaders\": {\n",
      "      \"content-type\": \"application/x-amz-json-1.1\",\n",
      "      \"date\": \"Sat, 12 Sep 2020 16:03:33 GMT\",\n",
      "      \"x-amzn-requestid\": \"509975a8-b56b-47bc-ad9e-6a812b733e0f\",\n",
      "      \"content-length\": \"419\",\n",
      "      \"connection\": \"keep-alive\"\n",
      "    },\n",
      "    \"RetryAttempts\": 0\n",
      "  }\n",
      "}\n"
     ]
    }
   ],
   "source": [
    "get_solution_metrics_response = personalize.get_solution_metrics(\n",
    "    solutionVersionArn = recommend_solution_version_arn\n",
    ")\n",
    "\n",
    "print(json.dumps(get_solution_metrics_response, indent=2))"
   ]
  },
  {
   "cell_type": "markdown",
   "metadata": {},
   "source": [
    "#### Personalized Ranking Metrics"
   ]
  },
  {
   "cell_type": "code",
   "execution_count": 43,
   "metadata": {},
   "outputs": [
    {
     "name": "stdout",
     "output_type": "stream",
     "text": [
      "{\n",
      "  \"solutionVersionArn\": \"arn:aws:personalize:eu-west-1:554456892689:solution/retaildemostore-personalized-ranking/a2dfc89a\",\n",
      "  \"metrics\": {\n",
      "    \"coverage\": 0.4386,\n",
      "    \"mean_reciprocal_rank_at_25\": 0.7004,\n",
      "    \"normalized_discounted_cumulative_gain_at_10\": 0.6997,\n",
      "    \"normalized_discounted_cumulative_gain_at_25\": 0.7196,\n",
      "    \"normalized_discounted_cumulative_gain_at_5\": 0.6091,\n",
      "    \"precision_at_10\": 0.2623,\n",
      "    \"precision_at_25\": 0.1149,\n",
      "    \"precision_at_5\": 0.3622\n",
      "  },\n",
      "  \"ResponseMetadata\": {\n",
      "    \"RequestId\": \"088e1c2c-2703-4e1d-b967-4872103e7d0b\",\n",
      "    \"HTTPStatusCode\": 200,\n",
      "    \"HTTPHeaders\": {\n",
      "      \"content-type\": \"application/x-amz-json-1.1\",\n",
      "      \"date\": \"Sat, 12 Sep 2020 16:04:31 GMT\",\n",
      "      \"x-amzn-requestid\": \"088e1c2c-2703-4e1d-b967-4872103e7d0b\",\n",
      "      \"content-length\": \"420\",\n",
      "      \"connection\": \"keep-alive\"\n",
      "    },\n",
      "    \"RetryAttempts\": 0\n",
      "  }\n",
      "}\n"
     ]
    }
   ],
   "source": [
    "get_solution_metrics_response = personalize.get_solution_metrics(\n",
    "    solutionVersionArn = ranking_solution_version_arn\n",
    ")\n",
    "\n",
    "print(json.dumps(get_solution_metrics_response, indent=2))"
   ]
  },
  {
   "cell_type": "markdown",
   "metadata": {},
   "source": [
    "## Create Campaigns\n",
    "\n",
    "Once we're satisfied with our solution versions, we need to create Campaigns for each solution version. When creating a campaign you specify the minimum transactions per second (`minProvisionedTPS`) that you expect to make against the service for this campaign. Personalize will automatically scale the inference endpoint up and down for the campaign to match demand but will never scale below `minProvisionedTPS`.\n",
    "\n",
    "Let's create campaigns for our three solution versions with each set at `minProvisionedTPS` of 1."
   ]
  },
  {
   "cell_type": "markdown",
   "metadata": {},
   "source": [
    "#### Create Related Products Campaign"
   ]
  },
  {
   "cell_type": "code",
   "execution_count": 44,
   "metadata": {},
   "outputs": [
    {
     "name": "stdout",
     "output_type": "stream",
     "text": [
      "{\n",
      "  \"campaignArn\": \"arn:aws:personalize:eu-west-1:554456892689:campaign/retaildemostore-related-products\",\n",
      "  \"ResponseMetadata\": {\n",
      "    \"RequestId\": \"3d7c51ed-4ee6-4bad-a003-8fe939924e5d\",\n",
      "    \"HTTPStatusCode\": 200,\n",
      "    \"HTTPHeaders\": {\n",
      "      \"content-type\": \"application/x-amz-json-1.1\",\n",
      "      \"date\": \"Sat, 12 Sep 2020 16:07:52 GMT\",\n",
      "      \"x-amzn-requestid\": \"3d7c51ed-4ee6-4bad-a003-8fe939924e5d\",\n",
      "      \"content-length\": \"102\",\n",
      "      \"connection\": \"keep-alive\"\n",
      "    },\n",
      "    \"RetryAttempts\": 0\n",
      "  }\n",
      "}\n"
     ]
    }
   ],
   "source": [
    "create_campaign_response = personalize.create_campaign(\n",
    "    name = \"retaildemostore-related-products\",\n",
    "    solutionVersionArn = related_solution_version_arn,\n",
    "    minProvisionedTPS = 1\n",
    ")\n",
    "\n",
    "related_campaign_arn = create_campaign_response['campaignArn']\n",
    "print(json.dumps(create_campaign_response, indent=2))"
   ]
  },
  {
   "cell_type": "markdown",
   "metadata": {},
   "source": [
    "#### Create Product Recommendation Campaign"
   ]
  },
  {
   "cell_type": "code",
   "execution_count": 45,
   "metadata": {},
   "outputs": [
    {
     "name": "stdout",
     "output_type": "stream",
     "text": [
      "{\n",
      "  \"campaignArn\": \"arn:aws:personalize:eu-west-1:554456892689:campaign/retaildemostore-product-personalization\",\n",
      "  \"ResponseMetadata\": {\n",
      "    \"RequestId\": \"eadb0c10-6370-41cc-a60e-f6eed489f0ac\",\n",
      "    \"HTTPStatusCode\": 200,\n",
      "    \"HTTPHeaders\": {\n",
      "      \"content-type\": \"application/x-amz-json-1.1\",\n",
      "      \"date\": \"Sat, 12 Sep 2020 16:09:48 GMT\",\n",
      "      \"x-amzn-requestid\": \"eadb0c10-6370-41cc-a60e-f6eed489f0ac\",\n",
      "      \"content-length\": \"109\",\n",
      "      \"connection\": \"keep-alive\"\n",
      "    },\n",
      "    \"RetryAttempts\": 0\n",
      "  }\n",
      "}\n"
     ]
    }
   ],
   "source": [
    "create_campaign_response = personalize.create_campaign(\n",
    "    name = \"retaildemostore-product-personalization\",\n",
    "    solutionVersionArn = recommend_solution_version_arn,\n",
    "    minProvisionedTPS = 1\n",
    ")\n",
    "\n",
    "recommend_campaign_arn = create_campaign_response['campaignArn']\n",
    "print(json.dumps(create_campaign_response, indent=2))"
   ]
  },
  {
   "cell_type": "markdown",
   "metadata": {},
   "source": [
    "#### Create Personalized Ranking Campaign"
   ]
  },
  {
   "cell_type": "code",
   "execution_count": 46,
   "metadata": {},
   "outputs": [
    {
     "name": "stdout",
     "output_type": "stream",
     "text": [
      "{\n",
      "  \"campaignArn\": \"arn:aws:personalize:eu-west-1:554456892689:campaign/retaildemostore-personalized-ranking\",\n",
      "  \"ResponseMetadata\": {\n",
      "    \"RequestId\": \"9d7dbd17-6237-4c25-8bb8-8d22a870423a\",\n",
      "    \"HTTPStatusCode\": 200,\n",
      "    \"HTTPHeaders\": {\n",
      "      \"content-type\": \"application/x-amz-json-1.1\",\n",
      "      \"date\": \"Sat, 12 Sep 2020 16:10:41 GMT\",\n",
      "      \"x-amzn-requestid\": \"9d7dbd17-6237-4c25-8bb8-8d22a870423a\",\n",
      "      \"content-length\": \"106\",\n",
      "      \"connection\": \"keep-alive\"\n",
      "    },\n",
      "    \"RetryAttempts\": 0\n",
      "  }\n",
      "}\n"
     ]
    }
   ],
   "source": [
    "create_campaign_response = personalize.create_campaign(\n",
    "    name = \"retaildemostore-personalized-ranking\",\n",
    "    solutionVersionArn = ranking_solution_version_arn,\n",
    "    minProvisionedTPS = 1\n",
    ")\n",
    "\n",
    "ranking_campaign_arn = create_campaign_response['campaignArn']\n",
    "print(json.dumps(create_campaign_response, indent=2))"
   ]
  },
  {
   "cell_type": "markdown",
   "metadata": {},
   "source": [
    "#### Wait for Related Products Campaign to Have ACTIVE Status\n",
    "\n",
    "It can take 20-30 minutes for the campaigns to be fully created. \n",
    "\n",
    "While you are waiting for this to complete you can learn more about campaigns here: https://docs.aws.amazon.com/personalize/latest/dg/campaigns.html"
   ]
  },
  {
   "cell_type": "code",
   "execution_count": 47,
   "metadata": {},
   "outputs": [
    {
     "name": "stdout",
     "output_type": "stream",
     "text": [
      "Campaign arn:aws:personalize:eu-west-1:554456892689:campaign/retaildemostore-personalized-ranking successfully completed\n",
      "Campaign arn:aws:personalize:eu-west-1:554456892689:campaign/retaildemostore-product-personalization successfully completed\n",
      "Campaign arn:aws:personalize:eu-west-1:554456892689:campaign/retaildemostore-related-products successfully completed\n",
      "All campaigns have completed\n",
      "CPU times: user 21.3 ms, sys: 2 µs, total: 21.3 ms\n",
      "Wall time: 133 ms\n"
     ]
    }
   ],
   "source": [
    "%%time\n",
    "\n",
    "campaign_arns = [ related_campaign_arn, recommend_campaign_arn, ranking_campaign_arn ]\n",
    "\n",
    "max_time = time.time() + 3*60*60 # 3 hours\n",
    "while time.time() < max_time:\n",
    "    for campaign_arn in reversed(campaign_arns):\n",
    "        campaign_response = personalize.describe_campaign(\n",
    "            campaignArn = campaign_arn\n",
    "        )\n",
    "        status = campaign_response[\"campaign\"][\"status\"]\n",
    "\n",
    "        if status == \"ACTIVE\":\n",
    "            print(f'Campaign {campaign_arn} successfully completed')\n",
    "            campaign_arns.remove(campaign_arn)\n",
    "        elif status == \"CREATE FAILED\":\n",
    "            print(f'Campaign {campaign_arn} failed')\n",
    "            if campaign_response.get('failureReason'):\n",
    "                print('   Reason: ' + campaign_response['failureReason'])\n",
    "            campaign_arns.remove(campaign_arn)\n",
    "\n",
    "    if len(campaign_arns) > 0:\n",
    "        print('At least one campaign is still in progress')\n",
    "        time.sleep(60)\n",
    "    else:\n",
    "        print(\"All campaigns have completed\")\n",
    "        break"
   ]
  },
  {
   "cell_type": "markdown",
   "metadata": {},
   "source": [
    "## Test Campaigns\n",
    "\n",
    "Now that our campaigns have been fully created, let's test each campaign and evaluate the results."
   ]
  },
  {
   "cell_type": "markdown",
   "metadata": {},
   "source": [
    "### Test Related Product Recommendations Campaign\n",
    "\n",
    "Let's test the recommendations made by the related items/products campaign by selecting a product from the Retail Demo Store's [Products](https://github.com/aws-samples/retail-demo-store/tree/master/src/products) microservice and requesting related item recommendations for that product."
   ]
  },
  {
   "cell_type": "markdown",
   "metadata": {},
   "source": [
    "#### Select a Product\n",
    "\n",
    "We'll just pick a random product for simplicity. Feel free to change the `product_id` below and execute the following cells with a different product to get a sense for how the recommendations change."
   ]
  },
  {
   "cell_type": "code",
   "execution_count": 50,
   "metadata": {},
   "outputs": [
    {
     "name": "stdout",
     "output_type": "stream",
     "text": [
      "{\n",
      "    \"category\": \"footwear\",\n",
      "    \"description\": \"Whether on deck or on the town, these blue deck shoes with brown leather accents will draw a salute.\",\n",
      "    \"id\": \"37\",\n",
      "    \"image\": \"5.jpg\",\n",
      "    \"name\": \"Sporty Deck Shoe\",\n",
      "    \"price\": 129.99,\n",
      "    \"sk\": \"\",\n",
      "    \"style\": \"sneaker\",\n",
      "    \"url\": \"http://d2syr0qoho6cqh.cloudfront.net/#/product/37\"\n",
      "}\n"
     ]
    }
   ],
   "source": [
    "product_id = 37\n",
    "\n",
    "response = requests.get('http://{}/products/id/{}'.format(products_service_instance, product_id))\n",
    "product = response.json()\n",
    "print(json.dumps(product, indent=4, sort_keys=True))"
   ]
  },
  {
   "cell_type": "markdown",
   "metadata": {},
   "source": [
    "#### Get Related Product Recommendations for Product\n",
    "\n",
    "Now let's call Amazon Personalize to get related item/product recommendations for our product from the related item campaign."
   ]
  },
  {
   "cell_type": "code",
   "execution_count": 51,
   "metadata": {},
   "outputs": [],
   "source": [
    "get_recommendations_response = personalize_runtime.get_recommendations(\n",
    "    campaignArn = related_campaign_arn,\n",
    "    itemId = str(product_id),\n",
    "    numResults = 10\n",
    ")\n",
    "\n",
    "item_list = get_recommendations_response['itemList']"
   ]
  },
  {
   "cell_type": "code",
   "execution_count": 52,
   "metadata": {},
   "outputs": [
    {
     "name": "stdout",
     "output_type": "stream",
     "text": [
      "[\n",
      "    {\n",
      "        \"itemId\": \"49\"\n",
      "    },\n",
      "    {\n",
      "        \"itemId\": \"45\"\n",
      "    },\n",
      "    {\n",
      "        \"itemId\": \"56\"\n",
      "    },\n",
      "    {\n",
      "        \"itemId\": \"8\"\n",
      "    },\n",
      "    {\n",
      "        \"itemId\": \"40\"\n",
      "    },\n",
      "    {\n",
      "        \"itemId\": \"24\"\n",
      "    },\n",
      "    {\n",
      "        \"itemId\": \"32\"\n",
      "    },\n",
      "    {\n",
      "        \"itemId\": \"48\"\n",
      "    },\n",
      "    {\n",
      "        \"itemId\": \"16\"\n",
      "    },\n",
      "    {\n",
      "        \"itemId\": \"5\"\n",
      "    }\n",
      "]\n"
     ]
    }
   ],
   "source": [
    "print(json.dumps(item_list, indent=4))"
   ]
  },
  {
   "cell_type": "markdown",
   "metadata": {},
   "source": [
    "Since the `itemId`'s in the above response don't tell us much about the products being recommended, let's get detailed information for each item ID from the Products microservice."
   ]
  },
  {
   "cell_type": "code",
   "execution_count": 53,
   "metadata": {},
   "outputs": [
    {
     "name": "stdout",
     "output_type": "stream",
     "text": [
      "{\n",
      "    \"id\": \"49\",\n",
      "    \"url\": \"http://d2syr0qoho6cqh.cloudfront.net/#/product/49\",\n",
      "    \"sk\": \"\",\n",
      "    \"name\": \"Light Brown Leather Lace-Up Boot\",\n",
      "    \"category\": \"footwear\",\n",
      "    \"style\": \"boot\",\n",
      "    \"description\": \"Sturdy enough for the outdoors yet stylish to wear out on the town.\",\n",
      "    \"price\": 89.95,\n",
      "    \"image\": \"11.jpg\"\n",
      "}\n",
      "{\n",
      "    \"id\": \"45\",\n",
      "    \"url\": \"http://d2syr0qoho6cqh.cloudfront.net/#/product/45\",\n",
      "    \"sk\": \"\",\n",
      "    \"name\": \"Classic Black Leather Hi-Tops\",\n",
      "    \"category\": \"footwear\",\n",
      "    \"style\": \"sneaker\",\n",
      "    \"description\": \"Casual or dressy, this black leather hi-top has you covered.\",\n",
      "    \"price\": 129.99,\n",
      "    \"image\": \"6.jpg\"\n",
      "}\n",
      "{\n",
      "    \"id\": \"56\",\n",
      "    \"url\": \"http://d2syr0qoho6cqh.cloudfront.net/#/product/56\",\n",
      "    \"sk\": \"\",\n",
      "    \"name\": \"Red Fishing Lure\",\n",
      "    \"category\": \"outdoors\",\n",
      "    \"style\": \"fishing\",\n",
      "    \"description\": \"Every tackle box needs a silver and red reflective fishing lure.\",\n",
      "    \"price\": 9.99,\n",
      "    \"image\": \"12.jpg\"\n",
      "}\n",
      "{\n",
      "    \"id\": \"8\",\n",
      "    \"url\": \"http://d2syr0qoho6cqh.cloudfront.net/#/product/8\",\n",
      "    \"sk\": \"\",\n",
      "    \"name\": \"LED Dog Collar\",\n",
      "    \"category\": \"outdoors\",\n",
      "    \"style\": \"pet\",\n",
      "    \"description\": \"Brightly lit collar for your loved pet.\",\n",
      "    \"price\": 29.99,\n",
      "    \"image\": \"1.jpg\"\n",
      "}\n",
      "{\n",
      "    \"id\": \"40\",\n",
      "    \"url\": \"http://d2syr0qoho6cqh.cloudfront.net/#/product/40\",\n",
      "    \"sk\": \"\",\n",
      "    \"name\": \"Spotted Fishing Lure\",\n",
      "    \"category\": \"outdoors\",\n",
      "    \"style\": \"fishing\",\n",
      "    \"description\": \"Land a big one with this blackspotted lure with green bushy tail.\",\n",
      "    \"price\": 9.99,\n",
      "    \"image\": \"5.jpg\"\n",
      "}\n",
      "{\n",
      "    \"id\": \"24\",\n",
      "    \"url\": \"http://d2syr0qoho6cqh.cloudfront.net/#/product/24\",\n",
      "    \"sk\": \"\",\n",
      "    \"name\": \"Classic Fishing Pole\",\n",
      "    \"category\": \"outdoors\",\n",
      "    \"style\": \"fishing\",\n",
      "    \"description\": \"Land a big one with our classic fishing rod and reel.\",\n",
      "    \"price\": 9.99,\n",
      "    \"image\": \"3.jpg\"\n",
      "}\n",
      "{\n",
      "    \"id\": \"32\",\n",
      "    \"url\": \"http://d2syr0qoho6cqh.cloudfront.net/#/product/32\",\n",
      "    \"sk\": \"\",\n",
      "    \"name\": \"Classic Fishing Reel\",\n",
      "    \"category\": \"outdoors\",\n",
      "    \"style\": \"fishing\",\n",
      "    \"description\": \"Add this attractive gold and silver fishing reel to an existing pole.\",\n",
      "    \"price\": 29.99,\n",
      "    \"image\": \"4.jpg\"\n",
      "}\n",
      "{\n",
      "    \"id\": \"48\",\n",
      "    \"url\": \"http://d2syr0qoho6cqh.cloudfront.net/#/product/48\",\n",
      "    \"sk\": \"\",\n",
      "    \"name\": \"Silver Fishing Lure\",\n",
      "    \"category\": \"outdoors\",\n",
      "    \"style\": \"fishing\",\n",
      "    \"description\": \"Catch your limit in no time with this reflective silver lure with blue and black accents.\",\n",
      "    \"price\": 9.99,\n",
      "    \"image\": \"6.jpg\",\n",
      "    \"featured\": \"true\"\n",
      "}\n",
      "{\n",
      "    \"id\": \"16\",\n",
      "    \"url\": \"http://d2syr0qoho6cqh.cloudfront.net/#/product/16\",\n",
      "    \"sk\": \"\",\n",
      "    \"name\": \"Neon Colored Fishing Lure\",\n",
      "    \"category\": \"outdoors\",\n",
      "    \"style\": \"fishing\",\n",
      "    \"description\": \"This lure will be hard to pass up with its bright neon green and yellow colors.\",\n",
      "    \"price\": 9.99,\n",
      "    \"image\": \"2.jpg\"\n",
      "}\n",
      "{\n",
      "    \"id\": \"5\",\n",
      "    \"url\": \"http://d2syr0qoho6cqh.cloudfront.net/#/product/5\",\n",
      "    \"sk\": \"\",\n",
      "    \"name\": \"Super Knit Sneakers\",\n",
      "    \"category\": \"footwear\",\n",
      "    \"style\": \"sneaker\",\n",
      "    \"description\": \"Modern running shoes with our latest technology.\",\n",
      "    \"price\": 129.99,\n",
      "    \"image\": \"1.jpg\",\n",
      "    \"featured\": \"true\",\n",
      "    \"gender_affinity\": \"M\"\n",
      "}\n"
     ]
    }
   ],
   "source": [
    "for item in item_list:\n",
    "    response = requests.get('http://{}/products/id/{}'.format(products_service_instance, item['itemId']))\n",
    "    print(json.dumps(response.json(), indent = 4))"
   ]
  },
  {
   "cell_type": "markdown",
   "metadata": {},
   "source": [
    "Based on the random product selected above, do the similar item recommendations from Personalize make sense? Keep in mind that the similar item recommendations from the SIMS recipe are based on the interactions we generated as input into the solution creation process above."
   ]
  },
  {
   "cell_type": "markdown",
   "metadata": {},
   "source": [
    "### Test Product Recommendations Campaign\n",
    "\n",
    "Let's test the recommendations made by the product recommendations campaign by selecting a user from the Retail Demo Store's Users microservice and requesting item recommendations for that user."
   ]
  },
  {
   "cell_type": "markdown",
   "metadata": {},
   "source": [
    "#### Select a User\n",
    "\n",
    "We'll just pick a random user for simplicity. Feel free to change the `user_id` below and execute the following cells with a different user to get a sense for how the recommendations change."
   ]
  },
  {
   "cell_type": "code",
   "execution_count": 54,
   "metadata": {},
   "outputs": [],
   "source": [
    "user_id = 256\n",
    "\n",
    "response = requests.get('http://{}/users/id/{}'.format(users_service_instance, user_id))\n",
    "user = response.json()\n",
    "persona = user['persona']"
   ]
  },
  {
   "cell_type": "code",
   "execution_count": 55,
   "metadata": {},
   "outputs": [
    {
     "name": "stdout",
     "output_type": "stream",
     "text": [
      "{\n",
      "    \"addresses\": [\n",
      "        {\n",
      "            \"address1\": \"2058 Alison Locks Apt. 412\",\n",
      "            \"address2\": \"\",\n",
      "            \"city\": \"Shellyview\",\n",
      "            \"country\": \"US\",\n",
      "            \"default\": true,\n",
      "            \"first_name\": \"Tiffany\",\n",
      "            \"last_name\": \"Mcclure\",\n",
      "            \"state\": \"TN\",\n",
      "            \"zipcode\": \"37097\"\n",
      "        }\n",
      "    ],\n",
      "    \"age\": 41,\n",
      "    \"email\": \"tiffany.mcclure@example.com\",\n",
      "    \"first_name\": \"Tiffany\",\n",
      "    \"gender\": \"F\",\n",
      "    \"id\": \"256\",\n",
      "    \"last_name\": \"Mcclure\",\n",
      "    \"persona\": \"accessories_jewelry_apparel\",\n",
      "    \"username\": \"user256\"\n",
      "}\n"
     ]
    }
   ],
   "source": [
    "print(json.dumps(user, indent=4, sort_keys=True))"
   ]
  },
  {
   "cell_type": "markdown",
   "metadata": {},
   "source": [
    "**Take note of the `persona` value for the user above. We should see recommendations for products consistent with this persona since we generated historical interactions for products in the categories represented in the persona.**"
   ]
  },
  {
   "cell_type": "code",
   "execution_count": 56,
   "metadata": {},
   "outputs": [
    {
     "name": "stdout",
     "output_type": "stream",
     "text": [
      "Shopper persona for user 256 is accessories_jewelry_apparel\n"
     ]
    }
   ],
   "source": [
    "print('Shopper persona for user {} is {}'.format(user_id, persona))"
   ]
  },
  {
   "cell_type": "markdown",
   "metadata": {},
   "source": [
    "#### Get Product Recommendations for User\n",
    "\n",
    "Now let's call Amazon Personalize to get recommendations for our user from the product recommendations campaign."
   ]
  },
  {
   "cell_type": "code",
   "execution_count": 57,
   "metadata": {},
   "outputs": [],
   "source": [
    "get_recommendations_response = personalize_runtime.get_recommendations(\n",
    "    campaignArn = recommend_campaign_arn,\n",
    "    userId = str(user_id),\n",
    "    numResults = 10\n",
    ")\n",
    "\n",
    "item_list = get_recommendations_response['itemList']"
   ]
  },
  {
   "cell_type": "code",
   "execution_count": 58,
   "metadata": {},
   "outputs": [
    {
     "name": "stdout",
     "output_type": "stream",
     "text": [
      "[\n",
      "    {\n",
      "        \"itemId\": \"55\",\n",
      "        \"score\": 0.090827\n",
      "    },\n",
      "    {\n",
      "        \"itemId\": \"41\",\n",
      "        \"score\": 0.0877652\n",
      "    },\n",
      "    {\n",
      "        \"itemId\": \"17\",\n",
      "        \"score\": 0.0801789\n",
      "    },\n",
      "    {\n",
      "        \"itemId\": \"9\",\n",
      "        \"score\": 0.0794353\n",
      "    },\n",
      "    {\n",
      "        \"itemId\": \"47\",\n",
      "        \"score\": 0.0743058\n",
      "    },\n",
      "    {\n",
      "        \"itemId\": \"25\",\n",
      "        \"score\": 0.0718515\n",
      "    },\n",
      "    {\n",
      "        \"itemId\": \"7\",\n",
      "        \"score\": 0.0689271\n",
      "    },\n",
      "    {\n",
      "        \"itemId\": \"33\",\n",
      "        \"score\": 0.063773\n",
      "    },\n",
      "    {\n",
      "        \"itemId\": \"42\",\n",
      "        \"score\": 0.0551505\n",
      "    },\n",
      "    {\n",
      "        \"itemId\": \"1\",\n",
      "        \"score\": 0.0521234\n",
      "    }\n",
      "]\n"
     ]
    }
   ],
   "source": [
    "print(json.dumps(item_list, indent=4))"
   ]
  },
  {
   "cell_type": "markdown",
   "metadata": {},
   "source": [
    "Notice that in this response we have a new `score` field returned with each `itemId`. For all recipes except SIMS and Popularity-Count, Personalize [calculates a score](https://docs.aws.amazon.com/personalize/latest/dg/getting-real-time-recommendations.html) for each recommended item **across all items in your dataset**. Score values are between 0.0 and 1.0 and the sum of all scores across all items will total to 1.0. Therefore, the absolute value of scores will be smaller for larger item catalogs. \n",
    "\n",
    "Since the `itemId`'s in the above response don't tell us much about the products being recommended, let's retrieve product details from the Products microservice."
   ]
  },
  {
   "cell_type": "code",
   "execution_count": 59,
   "metadata": {},
   "outputs": [
    {
     "name": "stdout",
     "output_type": "stream",
     "text": [
      "User persona: accessories_jewelry_apparel\n",
      "{\n",
      "    \"id\": \"55\",\n",
      "    \"url\": \"http://d2syr0qoho6cqh.cloudfront.net/#/product/55\",\n",
      "    \"sk\": \"\",\n",
      "    \"name\": \"Pink Leather Purse\",\n",
      "    \"category\": \"accessories\",\n",
      "    \"style\": \"bag\",\n",
      "    \"description\": \"Conveniently sized to carry all your essentials in style, pink tassle included.\",\n",
      "    \"price\": 89.99,\n",
      "    \"image\": \"9.jpg\",\n",
      "    \"gender_affinity\": \"F\"\n",
      "}\n",
      "{\n",
      "    \"id\": \"41\",\n",
      "    \"url\": \"http://d2syr0qoho6cqh.cloudfront.net/#/product/41\",\n",
      "    \"sk\": \"\",\n",
      "    \"name\": \"Tan Leather Shoulder Bag\",\n",
      "    \"category\": \"accessories\",\n",
      "    \"style\": \"bag\",\n",
      "    \"description\": \"Clean and simple styling.\",\n",
      "    \"price\": 109.99,\n",
      "    \"image\": \"6.jpg\",\n",
      "    \"gender_affinity\": \"F\"\n",
      "}\n",
      "{\n",
      "    \"id\": \"17\",\n",
      "    \"url\": \"http://d2syr0qoho6cqh.cloudfront.net/#/product/17\",\n",
      "    \"sk\": \"\",\n",
      "    \"name\": \"Black Women's Purse\",\n",
      "    \"category\": \"accessories\",\n",
      "    \"style\": \"bag\",\n",
      "    \"description\": \"Spacious and stylish in a single bag.\",\n",
      "    \"price\": 109.99,\n",
      "    \"image\": \"3.jpg\",\n",
      "    \"gender_affinity\": \"F\"\n",
      "}\n",
      "{\n",
      "    \"id\": \"9\",\n",
      "    \"url\": \"http://d2syr0qoho6cqh.cloudfront.net/#/product/9\",\n",
      "    \"sk\": \"\",\n",
      "    \"name\": \"Black Leather Shoulder Bag\",\n",
      "    \"category\": \"accessories\",\n",
      "    \"style\": \"bag\",\n",
      "    \"description\": \"Our handmade leather shoulder bag will look great at the office or out on the town.\",\n",
      "    \"price\": 109.99,\n",
      "    \"image\": \"2.jpg\",\n",
      "    \"gender_affinity\": \"F\"\n",
      "}\n",
      "{\n",
      "    \"id\": \"47\",\n",
      "    \"url\": \"http://d2syr0qoho6cqh.cloudfront.net/#/product/47\",\n",
      "    \"sk\": \"\",\n",
      "    \"name\": \"Gold Bracelt with Multi-Color Tassels\",\n",
      "    \"category\": \"jewelry\",\n",
      "    \"style\": \"bracelet\",\n",
      "    \"description\": \"Add some color and style with this unique bracelet.\",\n",
      "    \"price\": 49.99,\n",
      "    \"image\": \"6.jpg\",\n",
      "    \"gender_affinity\": \"F\"\n",
      "}\n",
      "{\n",
      "    \"id\": \"25\",\n",
      "    \"url\": \"http://d2syr0qoho6cqh.cloudfront.net/#/product/25\",\n",
      "    \"sk\": \"\",\n",
      "    \"name\": \"Red Leather Purse\",\n",
      "    \"category\": \"accessories\",\n",
      "    \"style\": \"bag\",\n",
      "    \"description\": \"With stylish gold chain and clasp this bright red purse will set off any outfit.\",\n",
      "    \"price\": 109.99,\n",
      "    \"image\": \"4.jpg\",\n",
      "    \"featured\": \"true\",\n",
      "    \"gender_affinity\": \"F\"\n",
      "}\n",
      "{\n",
      "    \"id\": \"7\",\n",
      "    \"url\": \"http://d2syr0qoho6cqh.cloudfront.net/#/product/7\",\n",
      "    \"sk\": \"\",\n",
      "    \"name\": \"Gold Anchor Womens Bracelet\",\n",
      "    \"category\": \"jewelry\",\n",
      "    \"style\": \"bracelet\",\n",
      "    \"description\": \"A fresh accessory that works with almost any outfit.\",\n",
      "    \"price\": 49.99,\n",
      "    \"image\": \"1.jpg\",\n",
      "    \"gender_affinity\": \"F\"\n",
      "}\n",
      "{\n",
      "    \"id\": \"33\",\n",
      "    \"url\": \"http://d2syr0qoho6cqh.cloudfront.net/#/product/33\",\n",
      "    \"sk\": \"\",\n",
      "    \"name\": \"Brown Women's Purse\",\n",
      "    \"category\": \"accessories\",\n",
      "    \"style\": \"bag\",\n",
      "    \"description\": \"This brown rich leather purse has a classic style.\",\n",
      "    \"price\": 109.99,\n",
      "    \"image\": \"5.jpg\",\n",
      "    \"gender_affinity\": \"F\"\n",
      "}\n",
      "{\n",
      "    \"id\": \"42\",\n",
      "    \"url\": \"http://d2syr0qoho6cqh.cloudfront.net/#/product/42\",\n",
      "    \"sk\": \"\",\n",
      "    \"name\": \"Multi Color Socks\",\n",
      "    \"category\": \"apparel\",\n",
      "    \"style\": \"socks\",\n",
      "    \"description\": \"Bring some life to your sock game with some multi-color geometric shapes.\",\n",
      "    \"price\": 9.99,\n",
      "    \"image\": \"6.jpg\",\n",
      "    \"gender_affinity\": \"F\"\n",
      "}\n",
      "{\n",
      "    \"id\": \"1\",\n",
      "    \"url\": \"http://d2syr0qoho6cqh.cloudfront.net/#/product/1\",\n",
      "    \"sk\": \"\",\n",
      "    \"name\": \"Black Leather Backpack\",\n",
      "    \"category\": \"accessories\",\n",
      "    \"style\": \"bag\",\n",
      "    \"description\": \"Our handmade leather backpack will look great at the office or out on the town.\",\n",
      "    \"price\": 109.99,\n",
      "    \"image\": \"1.jpg\",\n",
      "    \"featured\": \"true\"\n",
      "}\n"
     ]
    }
   ],
   "source": [
    "print('User persona: ' + persona)\n",
    "\n",
    "for item in item_list:\n",
    "    response = requests.get('http://{}/products/id/{}'.format(products_service_instance, item['itemId']))\n",
    "    print(json.dumps(response.json(), indent = 4))"
   ]
  },
  {
   "cell_type": "markdown",
   "metadata": {},
   "source": [
    "Are the recommended products consistent with the persona? Note that this is a rather contrived example using a limited amount of generated interaction data without model parameter tuning. The purpose is to give you hands on experience building models and retrieving inferences from Amazon Personalize. "
   ]
  },
  {
   "cell_type": "markdown",
   "metadata": {},
   "source": [
    "### Test Personalized Ranking Campaign\n",
    "\n",
    "Next let's evaluate the results of the personalized ranking campaign. As a reminder, given a list of items and a user, this campaign will rerank the items based on the preferences of the user. For the Retail Demo Store, we will use this campaign to rerank the products listed for each category and the featured products list as well as reranking catalog search results displayed in the search widget."
   ]
  },
  {
   "cell_type": "markdown",
   "metadata": {},
   "source": [
    "#### Get Featured Products List\n",
    "\n",
    "First let's get the list of featured products from the Products microservice."
   ]
  },
  {
   "cell_type": "code",
   "execution_count": 61,
   "metadata": {},
   "outputs": [
    {
     "name": "stdout",
     "output_type": "stream",
     "text": [
      "[\n",
      "    {\n",
      "        \"id\": \"36\",\n",
      "        \"url\": \"http://d2syr0qoho6cqh.cloudfront.net/#/product/36\",\n",
      "        \"sk\": \"\",\n",
      "        \"name\": \"Exercise Headphones\",\n",
      "        \"category\": \"electronics\",\n",
      "        \"style\": \"headphones\",\n",
      "        \"description\": \"These stylishly red ear buds wrap securely around your ears making them perfect when exercising or on the go.\",\n",
      "        \"price\": 19.99,\n",
      "        \"image\": \"5.jpg\",\n",
      "        \"featured\": \"true\"\n",
      "    },\n",
      "    {\n",
      "        \"id\": \"2\",\n",
      "        \"url\": \"http://d2syr0qoho6cqh.cloudfront.net/#/product/2\",\n",
      "        \"sk\": \"\",\n",
      "        \"name\": \"Striped Shirt\",\n",
      "        \"category\": \"apparel\",\n",
      "        \"style\": \"shirt\",\n",
      "        \"description\": \"A classic look for the summer season.\",\n",
      "        \"price\": 9.99,\n",
      "        \"image\": \"1.jpg\",\n",
      "        \"featured\": \"true\",\n",
      "        \"gender_affinity\": \"F\"\n",
      "    },\n",
      "    {\n",
      "        \"id\": \"48\",\n",
      "        \"url\": \"http://d2syr0qoho6cqh.cloudfront.net/#/product/48\",\n",
      "        \"sk\": \"\",\n",
      "        \"name\": \"Silver Fishing Lure\",\n",
      "        \"category\": \"outdoors\",\n",
      "        \"style\": \"fishing\",\n",
      "        \"description\": \"Catch your limit in no time with this reflective silver lure with blue and black accents.\",\n",
      "        \"price\": 9.99,\n",
      "        \"image\": \"6.jpg\",\n",
      "        \"featured\": \"true\"\n",
      "    },\n",
      "    {\n",
      "        \"id\": \"1\",\n",
      "        \"url\": \"http://d2syr0qoho6cqh.cloudfront.net/#/product/1\",\n",
      "        \"sk\": \"\",\n",
      "        \"name\": \"Black Leather Backpack\",\n",
      "        \"category\": \"accessories\",\n",
      "        \"style\": \"bag\",\n",
      "        \"description\": \"Our handmade leather backpack will look great at the office or out on the town.\",\n",
      "        \"price\": 109.99,\n",
      "        \"image\": \"1.jpg\",\n",
      "        \"featured\": \"true\"\n",
      "    },\n",
      "    {\n",
      "        \"id\": \"6\",\n",
      "        \"url\": \"http://d2syr0qoho6cqh.cloudfront.net/#/product/6\",\n",
      "        \"sk\": \"\",\n",
      "        \"name\": \"Coffee Gift Package\",\n",
      "        \"category\": \"housewares\",\n",
      "        \"style\": \"consumable\",\n",
      "        \"description\": \"Mug and Coffee gift set combination package.\",\n",
      "        \"price\": 39.99,\n",
      "        \"image\": \"1.jpg\",\n",
      "        \"featured\": \"true\"\n",
      "    },\n",
      "    {\n",
      "        \"id\": \"52\",\n",
      "        \"url\": \"http://d2syr0qoho6cqh.cloudfront.net/#/product/52\",\n",
      "        \"sk\": \"\",\n",
      "        \"name\": \"Turquoise Globe Earrings\",\n",
      "        \"category\": \"jewelry\",\n",
      "        \"style\": \"earrings\",\n",
      "        \"description\": \"Accessorize and set off any outfit with these attractive turquoise earrings.\",\n",
      "        \"price\": 29.99,\n",
      "        \"image\": \"7.jpg\",\n",
      "        \"featured\": \"true\",\n",
      "        \"gender_affinity\": \"F\"\n",
      "    },\n",
      "    {\n",
      "        \"id\": \"27\",\n",
      "        \"url\": \"http://d2syr0qoho6cqh.cloudfront.net/#/product/27\",\n",
      "        \"sk\": \"\",\n",
      "        \"name\": \"Bath Bomb\",\n",
      "        \"category\": \"beauty\",\n",
      "        \"style\": \"bathing\",\n",
      "        \"description\": \"Invigorate your next batch while moisturizing skin with these amazing bath bombs.\",\n",
      "        \"price\": 9.99,\n",
      "        \"image\": \"10.jpg\",\n",
      "        \"featured\": \"true\",\n",
      "        \"gender_affinity\": \"F\"\n",
      "    },\n",
      "    {\n",
      "        \"id\": \"5\",\n",
      "        \"url\": \"http://d2syr0qoho6cqh.cloudfront.net/#/product/5\",\n",
      "        \"sk\": \"\",\n",
      "        \"name\": \"Super Knit Sneakers\",\n",
      "        \"category\": \"footwear\",\n",
      "        \"style\": \"sneaker\",\n",
      "        \"description\": \"Modern running shoes with our latest technology.\",\n",
      "        \"price\": 129.99,\n",
      "        \"image\": \"1.jpg\",\n",
      "        \"featured\": \"true\",\n",
      "        \"gender_affinity\": \"M\"\n",
      "    },\n",
      "    {\n",
      "        \"id\": \"4\",\n",
      "        \"url\": \"http://d2syr0qoho6cqh.cloudfront.net/#/product/4\",\n",
      "        \"sk\": \"\",\n",
      "        \"name\": \"Fitness Tracker\",\n",
      "        \"category\": \"electronics\",\n",
      "        \"style\": \"wearable\",\n",
      "        \"description\": \"Almost as good as the real thing.\",\n",
      "        \"price\": 89.99,\n",
      "        \"image\": \"1.jpg\",\n",
      "        \"featured\": \"true\"\n",
      "    },\n",
      "    {\n",
      "        \"id\": \"51\",\n",
      "        \"url\": \"http://d2syr0qoho6cqh.cloudfront.net/#/product/51\",\n",
      "        \"sk\": \"\",\n",
      "        \"name\": \"Ceramic Mixing Bowls\",\n",
      "        \"category\": \"housewares\",\n",
      "        \"style\": \"bowls\",\n",
      "        \"description\": \"Add some style to your kitchen with this artistically designed mixing bowls.\",\n",
      "        \"price\": 49.95,\n",
      "        \"image\": \"7.jpg\",\n",
      "        \"featured\": \"true\"\n",
      "    },\n",
      "    {\n",
      "        \"id\": \"26\",\n",
      "        \"url\": \"http://d2syr0qoho6cqh.cloudfront.net/#/product/26\",\n",
      "        \"sk\": \"\",\n",
      "        \"name\": \"Blue Shirt\",\n",
      "        \"category\": \"apparel\",\n",
      "        \"style\": \"shirt\",\n",
      "        \"description\": \"This solid blue/slate colored mens shirt works in casual settings or under a sport coat.\",\n",
      "        \"price\": 9.99,\n",
      "        \"image\": \"4.jpg\",\n",
      "        \"featured\": \"true\",\n",
      "        \"gender_affinity\": \"M\"\n",
      "    },\n",
      "    {\n",
      "        \"id\": \"3\",\n",
      "        \"url\": \"http://d2syr0qoho6cqh.cloudfront.net/#/product/3\",\n",
      "        \"sk\": \"\",\n",
      "        \"name\": \"Beard Oil\",\n",
      "        \"category\": \"beauty\",\n",
      "        \"style\": \"grooming\",\n",
      "        \"description\": \"Lightly scented with a manly robust fragrance perfect for your face grass.\",\n",
      "        \"price\": 9.99,\n",
      "        \"image\": \"1.jpg\",\n",
      "        \"featured\": \"true\",\n",
      "        \"gender_affinity\": \"M\"\n",
      "    },\n",
      "    {\n",
      "        \"id\": \"25\",\n",
      "        \"url\": \"http://d2syr0qoho6cqh.cloudfront.net/#/product/25\",\n",
      "        \"sk\": \"\",\n",
      "        \"name\": \"Red Leather Purse\",\n",
      "        \"category\": \"accessories\",\n",
      "        \"style\": \"bag\",\n",
      "        \"description\": \"With stylish gold chain and clasp this bright red purse will set off any outfit.\",\n",
      "        \"price\": 109.99,\n",
      "        \"image\": \"4.jpg\",\n",
      "        \"featured\": \"true\",\n",
      "        \"gender_affinity\": \"F\"\n",
      "    },\n",
      "    {\n",
      "        \"id\": \"15\",\n",
      "        \"url\": \"http://d2syr0qoho6cqh.cloudfront.net/#/product/15\",\n",
      "        \"sk\": \"\",\n",
      "        \"name\": \"Leather Anchor Mens Bracelet\",\n",
      "        \"category\": \"jewelry\",\n",
      "        \"style\": \"bracelet\",\n",
      "        \"description\": \"A fresh accessory that works with almost any outfit.\",\n",
      "        \"price\": 49.99,\n",
      "        \"image\": \"2.jpg\",\n",
      "        \"featured\": \"true\",\n",
      "        \"gender_affinity\": \"M\"\n",
      "    }\n",
      "]\n"
     ]
    }
   ],
   "source": [
    "response = requests.get('http://{}/products/featured'.format(products_service_instance))\n",
    "featured_products = response.json()\n",
    "print(json.dumps(featured_products, indent = 4))"
   ]
  },
  {
   "cell_type": "markdown",
   "metadata": {},
   "source": [
    "#### ReRank Featured Products\n",
    "\n",
    "Using the featured products list just retrieved, first we'll create a list of item IDs that we want to rerank for a specific user. This reranking will allow us to provide ranked products based on the user's behavior. These behaviors should be consistent the same persona that was mentioned above (since we're going to use the same `user_id`)."
   ]
  },
  {
   "cell_type": "code",
   "execution_count": 62,
   "metadata": {},
   "outputs": [
    {
     "name": "stdout",
     "output_type": "stream",
     "text": [
      "['36', '2', '48', '1', '6', '52', '27', '5', '4', '51', '26', '3', '25', '15']\n"
     ]
    }
   ],
   "source": [
    "unranked_product_ids = []\n",
    "\n",
    "for product in featured_products:\n",
    "    unranked_product_ids.append(product['id'])\n",
    "    \n",
    "print(unranked_product_ids)"
   ]
  },
  {
   "cell_type": "markdown",
   "metadata": {},
   "source": [
    "Now let's have Personalize rank the featured product IDs based on our random user."
   ]
  },
  {
   "cell_type": "code",
   "execution_count": 63,
   "metadata": {},
   "outputs": [
    {
     "name": "stdout",
     "output_type": "stream",
     "text": [
      "[\n",
      "    {\n",
      "        \"itemId\": \"52\",\n",
      "        \"score\": 0.3763555\n",
      "    },\n",
      "    {\n",
      "        \"itemId\": \"1\",\n",
      "        \"score\": 0.2858394\n",
      "    },\n",
      "    {\n",
      "        \"itemId\": \"25\",\n",
      "        \"score\": 0.2075236\n",
      "    },\n",
      "    {\n",
      "        \"itemId\": \"2\",\n",
      "        \"score\": 0.1230665\n",
      "    },\n",
      "    {\n",
      "        \"itemId\": \"27\",\n",
      "        \"score\": 0.002173\n",
      "    },\n",
      "    {\n",
      "        \"itemId\": \"26\",\n",
      "        \"score\": 0.0016944\n",
      "    },\n",
      "    {\n",
      "        \"itemId\": \"51\",\n",
      "        \"score\": 0.0012516\n",
      "    },\n",
      "    {\n",
      "        \"itemId\": \"6\",\n",
      "        \"score\": 0.0009463\n",
      "    },\n",
      "    {\n",
      "        \"itemId\": \"36\",\n",
      "        \"score\": 0.0004247\n",
      "    },\n",
      "    {\n",
      "        \"itemId\": \"4\",\n",
      "        \"score\": 0.000362\n",
      "    },\n",
      "    {\n",
      "        \"itemId\": \"15\",\n",
      "        \"score\": 0.0002605\n",
      "    },\n",
      "    {\n",
      "        \"itemId\": \"48\",\n",
      "        \"score\": 7.86e-05\n",
      "    },\n",
      "    {\n",
      "        \"itemId\": \"5\",\n",
      "        \"score\": 1.58e-05\n",
      "    },\n",
      "    {\n",
      "        \"itemId\": \"3\",\n",
      "        \"score\": 7.9e-06\n",
      "    }\n",
      "]\n"
     ]
    }
   ],
   "source": [
    "response = personalize_runtime.get_personalized_ranking(\n",
    "    campaignArn=ranking_campaign_arn,\n",
    "    inputList=unranked_product_ids,\n",
    "    userId=str(user_id)\n",
    ")\n",
    "print(json.dumps(response['personalizedRanking'], indent = 4))"
   ]
  },
  {
   "cell_type": "markdown",
   "metadata": {},
   "source": [
    "Are the reranked results different than the original results from the Search service? Notice that we are also given a score that indicates the recommended ranking across all items in the catalog. Experiment with a different `user_id` in the cells above to see how the item ranking changes."
   ]
  },
  {
   "cell_type": "markdown",
   "metadata": {},
   "source": [
    "## Enable Campaigns in Retail Demo Store Recommendations Service\n",
    "\n",
    "Now that we've tested our campaigns and can get related product, product recommendations, and reranked items for our users, we need to enable the campaigns in the Retail Demo Store's [Recommendations service](https://github.com/aws-samples/retail-demo-store/tree/master/src/recommendations). The Recommendations service is called by the Retail Demo Store Web UI when a signed in user visits a page with personalized content capabilities (home page, product detail page, and category page). The Recommendations service checks Systems Manager Parameters values to determine the Personalize campaign ARNs to use for each of our three personalization use-cases.\n",
    "\n",
    "Let's set the campaign ARNs for our campaigns in the expected parameter names."
   ]
  },
  {
   "cell_type": "markdown",
   "metadata": {},
   "source": [
    "### Update SSM Parameter To Enable Related Products"
   ]
  },
  {
   "cell_type": "code",
   "execution_count": 64,
   "metadata": {},
   "outputs": [],
   "source": [
    "response = ssm.put_parameter(\n",
    "    Name='retaildemostore-related-products-campaign-arn',\n",
    "    Description='Retail Demo Store Related Products Campaign Arn Parameter',\n",
    "    Value='{}'.format(related_campaign_arn),\n",
    "    Type='String',\n",
    "    Overwrite=True\n",
    ")"
   ]
  },
  {
   "cell_type": "markdown",
   "metadata": {},
   "source": [
    "### Update SSM Parameter To Enable Product Recommendations"
   ]
  },
  {
   "cell_type": "code",
   "execution_count": 65,
   "metadata": {},
   "outputs": [],
   "source": [
    "response = ssm.put_parameter(\n",
    "    Name='retaildemostore-product-recommendation-campaign-arn',\n",
    "    Description='Retail Demo Store Product Recommendation Campaign Arn Parameter',\n",
    "    Value='{}'.format(recommend_campaign_arn),\n",
    "    Type='String',\n",
    "    Overwrite=True\n",
    ")"
   ]
  },
  {
   "cell_type": "markdown",
   "metadata": {},
   "source": [
    "### Update SSM Parameter To Enable Search Personalization"
   ]
  },
  {
   "cell_type": "code",
   "execution_count": 66,
   "metadata": {},
   "outputs": [],
   "source": [
    "response = ssm.put_parameter(\n",
    "    Name='retaildemostore-personalized-ranking-campaign-arn',\n",
    "    Description='Retail Demo Store Personalized Ranking Campaign Arn Parameter',\n",
    "    Value='{}'.format(ranking_campaign_arn),\n",
    "    Type='String',\n",
    "    Overwrite=True\n",
    ")"
   ]
  },
  {
   "cell_type": "markdown",
   "metadata": {},
   "source": [
    "## Evaluate Personalization in Retail Demo Store's Web UI\n",
    "\n",
    "Now that you've enabled each personalization feature by setting the respective campaign ARN, you can test these personalization features through the Web App UI. If you haven't already opened a browser window/tab to the Retail Demo Store Web UI, navigate to the CloudFormation console in this AWS account and check the Outputs section of the stack used to launch the Retail Demo Store. Make sure you're checking the base stack and not the nested stacks that were created. In the Outputs section look for the output named: WebURL and browse to the URL provided.\n",
    "\n",
    "![CloudFormation Outputs](../images/cfn-webui-outputs.png)\n",
    "\n",
    "If you haven't already created a user account in your Retail Demo Store instance, let's create one now. Once you've accessed the Retail Demo Store Web UI, you can logon and create a new account. Click on the Sign In button and then the \"**No account? Create account**\" link to create an account. Follow the prompts and enter the required data. You will need to provide a valid mobile phone number in order to receive an SMS message with the confirmation code to validate your account.\n",
    "\n",
    "Once you've created and validated your account, click on the Sign In button again and sign in with the account you created."
   ]
  },
  {
   "cell_type": "markdown",
   "metadata": {},
   "source": [
    "### Emulate Shopper\n",
    "\n",
    "To confirm product recommendations are personalized, you can emulate a different user. Click on your username in the top right-corner and then select [**Profile**](https://github.com/aws-samples/retail-demo-store/blob/master/src/web-ui/src/authenticated/Profile.vue). Use the Switch User drop-down to select a different user. In the drop down you will see a user's First and Last Name and a Persona that matches that user's behavior. Product recommendations should match the persona of the user you've selected.\n",
    "\n",
    "![Emulate Shopper](../images/retaildemostore-emulate.png)"
   ]
  },
  {
   "cell_type": "markdown",
   "metadata": {},
   "source": [
    "### Viewing Related Product Recommendations\n",
    "\n",
    "Let's start with the Related Product Recommendations use-case. This campaign for this use-case is based on the [SIMS](https://docs.aws.amazon.com/personalize/latest/dg/native-recipe-sims.html) recipe which uses item-to-item collaborative filtering at its core to derive an understanding of how users interact with similar items.\n",
    "\n",
    "Browse to a [product detail page](https://github.com/aws-samples/retail-demo-store/blob/master/src/web-ui/src/public/ProductDetail.vue) and evaluate the products listed in the **What other items do customers view related to this product?** section. You should see the recipe name displayed below the section header. This tells you that results are actually coming from the related item campaign. If you don't see the recipe name, the page is using default behavior of displaying products from the same category (verify that the campaign was created successfully above **and** the campaign ARN is set as an SSM parameter).\n",
    "\n",
    "Given the shopper personas we used to generate historical data, do the related item recommendations make sense? For example, given that one of the shopper personas used across many of the customers is \"footwear_outdoors\", you should see related products from both of these categories when viewing a product from either category. Although this is a somewhat contrived example, it does illustrate how Personalize understands an affinity for products across these categories.\n",
    "\n",
    "![Related Product Recommendations](./images/retaildemostore-related-products.png)"
   ]
  },
  {
   "cell_type": "markdown",
   "metadata": {},
   "source": [
    "### Viewing Product Recommendations\n",
    "\n",
    "With the user emulation saved, browse to the Retail Demo Store [home page](https://github.com/aws-samples/retail-demo-store/blob/master/src/web-ui/src/public/Main.vue) and evaluate the products listed in the **Inspired by your shopping trends** section (towards bottom of page). Do they appear consistent with the shopping persona you're emulating? For the screenshots listed here, the user was trained with historical data based on the \"footwear_outdoors\" persona so we should see product recommendations from the Footwear and Outdoors categories.\n",
    "\n",
    "![Personalized Product Recommendations](./images/retaildemostore-product-recs.png)\n",
    "\n",
    "Note that if the section is titled **Featured** or you don't see the Personalize recipe name displayed, this indicates that either you are not signed in as a user or the campaign ARN is not set as the appropriate SSM parameter. Double check that the campaign was created successfully above and that the campaign ARN is set in SSM."
   ]
  },
  {
   "cell_type": "markdown",
   "metadata": {},
   "source": [
    "### Personalized Ranking\n",
    "\n",
    "Finally, let's evaluate the personalizated ranking use-case. There are two places where personalized ranking is implemented in the Retail Demo Store. With a user emulated, browse to the featured product category list by clicking on \"Featured\" from the Retail Demo Store home page. Note how for the emulated user with a persona of \"footwear_outdoors\" that the shoe is moved to the first product. (See [CategoryDetail.vue](https://github.com/aws-samples/retail-demo-store/blob/master/src/web-ui/src/public/CategoryDetail.vue)).\n",
    "\n",
    "![Personalized Product Ranking](./images/retaildemostore-personalized-ranking.png)\n",
    "\n",
    "The other feature where personalized ranking is implemented is in [search results](https://github.com/aws-samples/retail-demo-store/blob/master/src/web-ui/src/public/Search.vue). Start typing a word in the search box and a search result widget will be displayed. If the results were reranked by Personalize, you will see a \"Personalize Ranking\" annotation in the search box. For the emulated user with a historical affinity for footwear and outdoors, notice that a search for product keywords starting with \"s\" will move shoes to the top of the results. \n",
    "\n",
    "![Personalized Search Results](./images/retaildemostore-personalized-search.png)\n",
    "\n",
    "If the search functionality is not working at all for you, make sure that you completed the [Search workshop](../0-StartHere/Search.ipynb)."
   ]
  },
  {
   "cell_type": "markdown",
   "metadata": {},
   "source": [
    "## Event Tracking - Keeping up with evolving user intent\n",
    "\n",
    "Up to this point we have trained and deployed three Amazon Personalize campaigns based on historical data that we generated in this workshop. This allows us to make related product, user recommendations, and rerank product lists based on already observed behavior of our users. However, user intent often changes in real-time such that what products the user is interested in now may be different than what they were interested in a week ago, a day ago, or even a few minutes ago. Making recommendations that keep up with evolving user intent is one of the more difficult challenges with personalization. Fortunately, Amazon Personalize has a mechanism for this exact issue.\n",
    "\n",
    "Amazon Personalize supports the ability to send real-time user events (i.e. clickstream) data into the service. Personalize uses this event data to improve recommendations. It will also save these events and automatically include them when solutions for the same dataset group are re-created (i.e. model retraining).\n",
    "\n",
    "The Retail Demo Store's Web UI already has [logic to send events](https://github.com/aws-samples/retail-demo-store/blob/master/src/web-ui/src/analytics/AnalyticsHandler.js) such as 'ProductViewed', 'ProductAdded', 'OrderCompleted', and others as they occur in real-time to a Personalize Event Tracker. These are the same event types we used to initially create the solutions and campaigns for our three use-cases. All we need to do is create an event tracker in Personalize, set the tracking Id for the tracker in an SSM parameter, and rebuild the Web UI service to pick up the change."
   ]
  },
  {
   "cell_type": "markdown",
   "metadata": {},
   "source": [
    "### Create Personalize Event Tracker\n",
    "\n",
    "Let's start by creating an event tracker for our dataset group."
   ]
  },
  {
   "cell_type": "code",
   "execution_count": 67,
   "metadata": {},
   "outputs": [
    {
     "name": "stdout",
     "output_type": "stream",
     "text": [
      "Event Tracker ARN: arn:aws:personalize:eu-west-1:554456892689:event-tracker/8eaca4f4\n",
      "Event Tracking ID: 5fb63f69-430a-40cd-ac4f-22633afc309b\n"
     ]
    }
   ],
   "source": [
    "event_tracker_response = personalize.create_event_tracker(\n",
    "    datasetGroupArn=dataset_group_arn,\n",
    "    name='retaildemostore-event-tracker'\n",
    ")\n",
    "\n",
    "event_tracker_arn = event_tracker_response['eventTrackerArn']\n",
    "event_tracking_id = event_tracker_response['trackingId']\n",
    "\n",
    "print('Event Tracker ARN: ' + event_tracker_arn)\n",
    "print('Event Tracking ID: ' + event_tracking_id)"
   ]
  },
  {
   "cell_type": "markdown",
   "metadata": {},
   "source": [
    "### Wait for Event Tracker Status to Become ACTIVE\n",
    "\n",
    "The event tracker should take a minute or so to become active."
   ]
  },
  {
   "cell_type": "code",
   "execution_count": 68,
   "metadata": {},
   "outputs": [
    {
     "name": "stdout",
     "output_type": "stream",
     "text": [
      "EventTracker: ACTIVE\n"
     ]
    }
   ],
   "source": [
    "status = None\n",
    "max_time = time.time() + 60*60 # 1 hours\n",
    "while time.time() < max_time:\n",
    "    describe_event_tracker_response = personalize.describe_event_tracker(\n",
    "        eventTrackerArn = event_tracker_arn\n",
    "    )\n",
    "    status = describe_event_tracker_response[\"eventTracker\"][\"status\"]\n",
    "    print(\"EventTracker: {}\".format(status))\n",
    "    \n",
    "    if status == \"ACTIVE\" or status == \"CREATE FAILED\":\n",
    "        break\n",
    "        \n",
    "    time.sleep(15)"
   ]
  },
  {
   "cell_type": "markdown",
   "metadata": {},
   "source": [
    "### Update SSM Parameter To Enable Event Tracking\n",
    "\n",
    "The Retail Demo Store's Web UI service just needs a Personalize Event Tracking Id to be able to send events to Personalize. The CodeBuild configuration for the Web UI service will pull the event tracking ID from an SSM parameter. \n",
    "\n",
    "Let's set our tracking ID in an SSM parameter."
   ]
  },
  {
   "cell_type": "code",
   "execution_count": 69,
   "metadata": {},
   "outputs": [],
   "source": [
    "response = ssm.put_parameter(\n",
    "    Name='retaildemostore-personalize-event-tracker-id',\n",
    "    Description='Retail Demo Store Personalize Event Tracker ID Parameter',\n",
    "    Value='{}'.format(event_tracking_id),\n",
    "    Type='String',\n",
    "    Overwrite=True\n",
    ")"
   ]
  },
  {
   "cell_type": "markdown",
   "metadata": {},
   "source": [
    "### Trigger Web UI Service Release\n",
    "\n",
    "Next let's trigger a new release of the Retail Demo Store's Web UI service so that it will pick up our SSM parameter change.\n",
    "\n",
    "In the AWS console, browse to the AWS Code Pipeline service. Find the pipeline with **WebUIPipeline** in the name. Click on the pipeline name.\n",
    "\n",
    "![AWS CodePipeline](./images/retaildemostore-codepipeline.png)"
   ]
  },
  {
   "cell_type": "markdown",
   "metadata": {},
   "source": [
    "#### Trigger Release\n",
    "\n",
    "To manually trigger a new release, click the **Release change** button, click the **Release** button on the popup dialog window, and then wait for the pipeline to build and deploy. This will rebuild the web app, deploy it to the web UI S3 bucket, and invalidate the CloudFront distribution to force browsers to load from the origin rather than from their local cache.\n",
    "\n",
    "![AWS CodePipeline Release](./images/retaildemostore-codepipeline-release.png)"
   ]
  },
  {
   "cell_type": "markdown",
   "metadata": {},
   "source": [
    "### Verify Event Tracking\n",
    "\n",
    "Return to your web browser tab/window where the Retail Demo Store Web UI is loaded and **reload the web app/page**. Reloading the page is important so that the web app is reloaded in your browser and the new event tracking configuration is loaded as well.\n",
    "\n",
    "There are a couple ways to verify that events are being sent to the Event Tracker. First, you can use your browser's developer tools to monitor the network calls made by the Retail Demo Store Web UI when you're browsing to product detail pages, adding items to carts, and completing orders. The other way you can verify that events are being received by the event tracker is in CloudWatch metrics for Personalize.\n",
    "\n",
    "1. If you have done so, **reload the web app by refreshing/reloading your browser page.**\n",
    "2. If not already signed in as a storefront user, sign in as (or create) a user. \n",
    "3. In the Retail Demo Store Web app, view product detail pages, add items to your cart, complete an order.\n",
    "4. Verify that the Web UI is making \"events\" calls to the Personalize Event Tracker.\n",
    "5. In the AWS console, browse to CloudWatch and then Metrics.\n",
    "\n",
    "![Personalize CloudWatch Metrics](./images/retaildemostore-eventtracker-cw.png)\n",
    "\n",
    "If events are not being sent to the event tracker, make sure that the WebUIPipeline pipeline was built and deployed successfully and that you reloaded the web app in your browser.\n",
    "\n",
    "To assess the impact of real-time event tracking in recommendations made by the user recommendations on the home page, follow these steps.\n",
    "\n",
    "1. Sign in as (or create) a storefront user.\n",
    "2. View the product recommendations displayed on the home page under the \"Inspired by your shopping trends\" header. Take note of the products being recommended.\n",
    "3. View products from categories that are not being recommended by clicking on their \"Details\" button. When you view the details for a product, an event is fired and sent to the Personalize event tracker.\n",
    "4. Return to the home page and you should see products being recommended that are the same or similar to the ones you just viewed."
   ]
  },
  {
   "cell_type": "markdown",
   "metadata": {},
   "source": [
    "## Create Purchased Products Filter\n",
    "\n",
    "Amazon Personalize supports the ability to create [filters](https://docs.aws.amazon.com/personalize/latest/dg/filter.html) that can be used to exclude items from being recommended that meet a filter expression. Since it's a poor user experience to recommend products that a user has already purchased, we will create a filter that excludes recently purchased products. We'll do this by creating a filter expression that excludes items that have an interaction with an event type of `OrderCompleted` for the user.\n",
    "\n",
    "> As noted above, the Retail Demo Store web application streams clickstream events to Personalize when the user performs various actions such as viewing and purchasing products. The filter created below allows us to use those events as exclusion criteria. See the [AnalyticsHandler.js](https://github.com/aws-samples/retail-demo-store/blob/master/src/web-ui/src/analytics/AnalyticsHandler.js) file for the code that sends clickstream events."
   ]
  },
  {
   "cell_type": "code",
   "execution_count": 70,
   "metadata": {},
   "outputs": [
    {
     "name": "stdout",
     "output_type": "stream",
     "text": [
      "Filter ARN: arn:aws:personalize:eu-west-1:554456892689:filter/retaildemostore-filter-purchased-products\n"
     ]
    }
   ],
   "source": [
    "response = personalize.create_filter(\n",
    "    name = 'retaildemostore-filter-purchased-products',\n",
    "    datasetGroupArn = dataset_group_arn,\n",
    "    filterExpression = 'EXCLUDE itemId WHERE INTERACTIONS.event_type in (\"OrderCompleted\")'\n",
    ")\n",
    " \n",
    "filter_arn = response['filterArn']\n",
    "print(f'Filter ARN: {filter_arn}')"
   ]
  },
  {
   "cell_type": "markdown",
   "metadata": {},
   "source": [
    "### Wait for Filter Status to Become ACTIVE\n",
    "\n",
    "The filter should take a minute or so to become active."
   ]
  },
  {
   "cell_type": "code",
   "execution_count": 71,
   "metadata": {},
   "outputs": [
    {
     "name": "stdout",
     "output_type": "stream",
     "text": [
      "Filter: CREATE PENDING\n",
      "Filter: CREATE IN_PROGRESS\n",
      "Filter: CREATE IN_PROGRESS\n",
      "Filter: ACTIVE\n"
     ]
    }
   ],
   "source": [
    "status = None\n",
    "max_time = time.time() + 60*60 # 1 hours\n",
    "while time.time() < max_time:\n",
    "    describe_filter_response = personalize.describe_filter(\n",
    "        filterArn = filter_arn\n",
    "    )\n",
    "    status = describe_filter_response[\"filter\"][\"status\"]\n",
    "    print(\"Filter: {}\".format(status))\n",
    "    \n",
    "    if status == \"ACTIVE\" or status == \"CREATE FAILED\":\n",
    "        break\n",
    "        \n",
    "    time.sleep(15)"
   ]
  },
  {
   "cell_type": "markdown",
   "metadata": {},
   "source": [
    "### Test Purchased Products Filter\n",
    "\n",
    "To test our purchased products filter, we will request recommendations for a random user. Then we will send an `OrderCompleted` event for one of the recommended products to Personalize using the event tracker created above. Finally, we will request recommendations again for the same user but this time specify our filter."
   ]
  },
  {
   "cell_type": "code",
   "execution_count": 72,
   "metadata": {},
   "outputs": [
    {
     "name": "stdout",
     "output_type": "stream",
     "text": [
      "[\n",
      "  {\n",
      "    \"itemId\": \"49\",\n",
      "    \"score\": 0.1143751\n",
      "  },\n",
      "  {\n",
      "    \"itemId\": \"48\",\n",
      "    \"score\": 0.0935527\n",
      "  },\n",
      "  {\n",
      "    \"itemId\": \"40\",\n",
      "    \"score\": 0.0857733\n",
      "  },\n",
      "  {\n",
      "    \"itemId\": \"8\",\n",
      "    \"score\": 0.0830365\n",
      "  },\n",
      "  {\n",
      "    \"itemId\": \"32\",\n",
      "    \"score\": 0.0713647\n",
      "  }\n",
      "]\n"
     ]
    }
   ],
   "source": [
    "# Pick a user ID in the range of test users and fetch 5 recommendations.\n",
    "user_id = '456'\n",
    "get_recommendations_response = personalize_runtime.get_recommendations(\n",
    "    campaignArn = recommend_campaign_arn,\n",
    "    userId = user_id,\n",
    "    numResults = 5\n",
    ")\n",
    "\n",
    "item_list = get_recommendations_response['itemList']\n",
    "print(json.dumps(item_list, indent=2))"
   ]
  },
  {
   "cell_type": "markdown",
   "metadata": {},
   "source": [
    "Next let's randomly select an item from the returned list of recommendations to be our product to purchase."
   ]
  },
  {
   "cell_type": "code",
   "execution_count": 73,
   "metadata": {},
   "outputs": [
    {
     "name": "stdout",
     "output_type": "stream",
     "text": [
      "Product ID to purchase: 8\n"
     ]
    }
   ],
   "source": [
    "product_id_to_purchase = item_list[randint(0, len(item_list)-1)]['itemId']\n",
    "print(f'Product ID to purchase: {product_id_to_purchase}')"
   ]
  },
  {
   "cell_type": "markdown",
   "metadata": {},
   "source": [
    "Next let's send an `OrderCompleted` event to Personalize to simulate that the product was just purchased. This will match the criteria for our filter. In the Retail Demo Store web application, this event is sent for each product in the order after the order is completed."
   ]
  },
  {
   "cell_type": "code",
   "execution_count": 74,
   "metadata": {},
   "outputs": [
    {
     "name": "stdout",
     "output_type": "stream",
     "text": [
      "{\n",
      "  \"ResponseMetadata\": {\n",
      "    \"RequestId\": \"32423ab5-e0bb-4264-ab7a-54d22b6678c2\",\n",
      "    \"HTTPStatusCode\": 200,\n",
      "    \"HTTPHeaders\": {\n",
      "      \"content-type\": \"application/json\",\n",
      "      \"date\": \"Sun, 13 Sep 2020 04:39:15 GMT\",\n",
      "      \"x-amzn-requestid\": \"32423ab5-e0bb-4264-ab7a-54d22b6678c2\",\n",
      "      \"content-length\": \"0\",\n",
      "      \"connection\": \"keep-alive\"\n",
      "    },\n",
      "    \"RetryAttempts\": 0\n",
      "  }\n",
      "}\n"
     ]
    }
   ],
   "source": [
    "response = personalize_events.put_events(\n",
    "    trackingId = event_tracking_id,\n",
    "    userId = user_id,\n",
    "    sessionId = str(uuid.uuid4()),\n",
    "    eventList = [\n",
    "        {\n",
    "            'eventId': str(uuid.uuid4()),\n",
    "            'eventType': 'OrderCompleted',\n",
    "            'itemId': str(product_id_to_purchase),\n",
    "            'sentAt': int(time.time())\n",
    "        }\n",
    "    ]\n",
    ")\n",
    "\n",
    "# Wait for OrderCompleted event to become consistent.\n",
    "time.sleep(5)\n",
    "\n",
    "print(json.dumps(response, indent=2))"
   ]
  },
  {
   "cell_type": "markdown",
   "metadata": {},
   "source": [
    "Finally, let's retrieve recommendations for the user again but this time specifying the filter to exclude recently purchased items. We do this by passing the filter's ARN via the `filterArn` parameter. In the Retail Demo Store, this is done in the [Recommendations](https://github.com/aws-samples/retail-demo-store/tree/master/src/recommendations) service."
   ]
  },
  {
   "cell_type": "code",
   "execution_count": 75,
   "metadata": {},
   "outputs": [
    {
     "name": "stdout",
     "output_type": "stream",
     "text": [
      "[\n",
      "  {\n",
      "    \"itemId\": \"49\",\n",
      "    \"score\": 0.1396802\n",
      "  },\n",
      "  {\n",
      "    \"itemId\": \"48\",\n",
      "    \"score\": 0.0816641\n",
      "  },\n",
      "  {\n",
      "    \"itemId\": \"56\",\n",
      "    \"score\": 0.0778758\n",
      "  },\n",
      "  {\n",
      "    \"itemId\": \"16\",\n",
      "    \"score\": 0.0761338\n",
      "  },\n",
      "  {\n",
      "    \"itemId\": \"45\",\n",
      "    \"score\": 0.0757087\n",
      "  }\n",
      "]\n"
     ]
    }
   ],
   "source": [
    "get_recommendations_response = personalize_runtime.get_recommendations(\n",
    "    campaignArn = recommend_campaign_arn,\n",
    "    userId = user_id,\n",
    "    numResults = 5,\n",
    "    filterArn = filter_arn\n",
    ")\n",
    "\n",
    "item_list = get_recommendations_response['itemList']\n",
    "print(json.dumps(item_list, indent=2))"
   ]
  },
  {
   "cell_type": "markdown",
   "metadata": {},
   "source": [
    "The following code will raise an assertion error if the product we just purchased is still recommended."
   ]
  },
  {
   "cell_type": "code",
   "execution_count": 76,
   "metadata": {},
   "outputs": [
    {
     "name": "stdout",
     "output_type": "stream",
     "text": [
      "Purchased item filtered from recommendations for user!\n"
     ]
    }
   ],
   "source": [
    "found_item = next((item for item in item_list if item['itemId'] == product_id_to_purchase), None)\n",
    "if found_item:\n",
    "    assert found_item == False, 'Purchased item found unexpectedly in recommendations'\n",
    "else:\n",
    "    print('Purchased item filtered from recommendations for user!')"
   ]
  },
  {
   "cell_type": "markdown",
   "metadata": {},
   "source": [
    "### Update Filter SSM Parameter\n",
    "\n",
    "With our filter created and tested, the last step is to update the SSM parameter that is used throughout the Retail Demo Store project to detect the filter ARN.\n",
    "\n",
    "The [Recommendations](https://github.com/aws-samples/retail-demo-store/tree/master/src/recommendations) service already has logic to look for the purchased products filter ARN in SSM and use it when fetching recommendations. All we have to do is set the filter's ARN in SSM."
   ]
  },
  {
   "cell_type": "code",
   "execution_count": 77,
   "metadata": {},
   "outputs": [],
   "source": [
    "response = ssm.put_parameter(\n",
    "    Name='retaildemostore-personalize-filter-purchased-arn',\n",
    "    Description='Retail Demo Store Personalize Filter Purchased Products Arn Parameter',\n",
    "    Value='{}'.format(filter_arn),\n",
    "    Type='String',\n",
    "    Overwrite=True\n",
    ")"
   ]
  },
  {
   "cell_type": "markdown",
   "metadata": {},
   "source": [
    "Now if you test completing an order for one or more items in the Retail Demo Store web application for a user, those products should no longer be included in recommendations for that user. Test it out by purchasing a recommended product from the \"Inspired by your shopping trends\" section of the home page and then verifying that the product is no longer recommended."
   ]
  },
  {
   "cell_type": "markdown",
   "metadata": {},
   "source": [
    "## Workshop Complete\n",
    "\n",
    "Congratulations! You have completed the Retail Demo Store Personalization Workshop.\n",
    "\n",
    "### Cleanup\n",
    "\n",
    "If you launched the Retail Demo Store in your personal AWS account **AND** you're done with all workshops, you can follow the [Personalize workshop cleanup](./1.2-Personalize-Cleanup.ipynb) notebook to delete all of the Amazon Personalize resources created by this workshop. **IMPORTANT: since the Personalize resources were created by this notebook and not CloudFormation, deleting the CloudFormation stack for the Retail Demo Store will not remove the Personalize resources. You MUST run the [Personalize workshop cleanup](./1.2-Personalize-Cleanup.ipynb) notebook or manually clean up these resources.**\n",
    "\n",
    "If you are participating in an AWS managed event such as a workshop and using an AWS provided temporary account, you can skip the cleanup workshop unless otherwise instructed."
   ]
  },
  {
   "cell_type": "code",
   "execution_count": null,
   "metadata": {},
   "outputs": [],
   "source": []
  }
 ],
 "metadata": {
  "kernelspec": {
   "display_name": "conda_python3",
   "language": "python",
   "name": "conda_python3"
  },
  "language_info": {
   "codemirror_mode": {
    "name": "ipython",
    "version": 3
   },
   "file_extension": ".py",
   "mimetype": "text/x-python",
   "name": "python",
   "nbconvert_exporter": "python",
   "pygments_lexer": "ipython3",
   "version": "3.6.10"
  }
 },
 "nbformat": 4,
 "nbformat_minor": 4
}
